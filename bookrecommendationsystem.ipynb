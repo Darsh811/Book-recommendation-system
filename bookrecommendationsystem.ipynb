{
 "cells": [
  {
   "cell_type": "markdown",
   "metadata": {},
   "source": [
    "# Book Recommendation System"
   ]
  },
  {
   "cell_type": "markdown",
   "metadata": {},
   "source": [
    "## Team no :12\n",
    "### Team Members\n",
    "- Bhargav Hegde (PES2UG20CS087)\n",
    "- Chandan MS (PES2UG20CS094)\n",
    "- Darshan GA (PES2UG20CS101)\n",
    "- Chandan BS(PES2UG20CS093)"
   ]
  },
  {
   "cell_type": "code",
   "execution_count": 1,
   "metadata": {},
   "outputs": [],
   "source": [
    "import numpy as np\n",
    "import pandas as pd\n",
    "import matplotlib.pyplot as plt\n",
    "import seaborn as sns"
   ]
  },
  {
   "cell_type": "markdown",
   "metadata": {},
   "source": [
    "### Step 2: Load Data"
   ]
  },
  {
   "cell_type": "markdown",
   "metadata": {},
   "source": [
    "Initially we tried using the dataset from bookcrossing.com and dropped it for its issues.\n",
    "\n",
    "Currently we are using the goodreads dataset from [here](https://github.com/zygmuntz/goodbooks-10k)\n"
   ]
  },
  {
   "cell_type": "code",
   "execution_count": 2,
   "metadata": {},
   "outputs": [
    {
     "data": {
      "text/html": [
       "<div>\n",
       "<style scoped>\n",
       "    .dataframe tbody tr th:only-of-type {\n",
       "        vertical-align: middle;\n",
       "    }\n",
       "\n",
       "    .dataframe tbody tr th {\n",
       "        vertical-align: top;\n",
       "    }\n",
       "\n",
       "    .dataframe thead th {\n",
       "        text-align: right;\n",
       "    }\n",
       "</style>\n",
       "<table border=\"1\" class=\"dataframe\">\n",
       "  <thead>\n",
       "    <tr style=\"text-align: right;\">\n",
       "      <th></th>\n",
       "      <th>user_id</th>\n",
       "      <th>book_id</th>\n",
       "      <th>rating</th>\n",
       "    </tr>\n",
       "  </thead>\n",
       "  <tbody>\n",
       "    <tr>\n",
       "      <th>0</th>\n",
       "      <td>1</td>\n",
       "      <td>258</td>\n",
       "      <td>5</td>\n",
       "    </tr>\n",
       "    <tr>\n",
       "      <th>1</th>\n",
       "      <td>2</td>\n",
       "      <td>4081</td>\n",
       "      <td>4</td>\n",
       "    </tr>\n",
       "    <tr>\n",
       "      <th>2</th>\n",
       "      <td>2</td>\n",
       "      <td>260</td>\n",
       "      <td>5</td>\n",
       "    </tr>\n",
       "    <tr>\n",
       "      <th>3</th>\n",
       "      <td>2</td>\n",
       "      <td>9296</td>\n",
       "      <td>5</td>\n",
       "    </tr>\n",
       "    <tr>\n",
       "      <th>4</th>\n",
       "      <td>2</td>\n",
       "      <td>2318</td>\n",
       "      <td>3</td>\n",
       "    </tr>\n",
       "    <tr>\n",
       "      <th>...</th>\n",
       "      <td>...</td>\n",
       "      <td>...</td>\n",
       "      <td>...</td>\n",
       "    </tr>\n",
       "    <tr>\n",
       "      <th>835091</th>\n",
       "      <td>9090</td>\n",
       "      <td>9083</td>\n",
       "      <td>4</td>\n",
       "    </tr>\n",
       "    <tr>\n",
       "      <th>835092</th>\n",
       "      <td>9090</td>\n",
       "      <td>2320</td>\n",
       "      <td>4</td>\n",
       "    </tr>\n",
       "    <tr>\n",
       "      <th>835093</th>\n",
       "      <td>9090</td>\n",
       "      <td>557</td>\n",
       "      <td>4</td>\n",
       "    </tr>\n",
       "    <tr>\n",
       "      <th>835094</th>\n",
       "      <td>12996</td>\n",
       "      <td>421</td>\n",
       "      <td>4</td>\n",
       "    </tr>\n",
       "    <tr>\n",
       "      <th>835095</th>\n",
       "      <td>12996</td>\n",
       "      <td>6047</td>\n",
       "      <td>3</td>\n",
       "    </tr>\n",
       "  </tbody>\n",
       "</table>\n",
       "<p>835096 rows × 3 columns</p>\n",
       "</div>"
      ],
      "text/plain": [
       "        user_id  book_id  rating\n",
       "0             1      258       5\n",
       "1             2     4081       4\n",
       "2             2      260       5\n",
       "3             2     9296       5\n",
       "4             2     2318       3\n",
       "...         ...      ...     ...\n",
       "835091     9090     9083       4\n",
       "835092     9090     2320       4\n",
       "835093     9090      557       4\n",
       "835094    12996      421       4\n",
       "835095    12996     6047       3\n",
       "\n",
       "[835096 rows x 3 columns]"
      ]
     },
     "execution_count": 2,
     "metadata": {},
     "output_type": "execute_result"
    }
   ],
   "source": [
    "ratings = pd.read_csv('ratings.csv')\n",
    "ratings"
   ]
  },
  {
   "cell_type": "code",
   "execution_count": 3,
   "metadata": {},
   "outputs": [
    {
     "data": {
      "text/html": [
       "<div>\n",
       "<style scoped>\n",
       "    .dataframe tbody tr th:only-of-type {\n",
       "        vertical-align: middle;\n",
       "    }\n",
       "\n",
       "    .dataframe tbody tr th {\n",
       "        vertical-align: top;\n",
       "    }\n",
       "\n",
       "    .dataframe thead th {\n",
       "        text-align: right;\n",
       "    }\n",
       "</style>\n",
       "<table border=\"1\" class=\"dataframe\">\n",
       "  <thead>\n",
       "    <tr style=\"text-align: right;\">\n",
       "      <th></th>\n",
       "      <th>book_id</th>\n",
       "      <th>genres</th>\n",
       "    </tr>\n",
       "  </thead>\n",
       "  <tbody>\n",
       "    <tr>\n",
       "      <th>0</th>\n",
       "      <td>https://images.gr-assets.com/books/1447303603l...</td>\n",
       "      <td>Young Adult|Fiction|Science Fiction|Dystopia|F...</td>\n",
       "    </tr>\n",
       "    <tr>\n",
       "      <th>1</th>\n",
       "      <td>https://images.gr-assets.com/books/1255614970l...</td>\n",
       "      <td>Fantasy|Young Adult|Fiction</td>\n",
       "    </tr>\n",
       "    <tr>\n",
       "      <th>2</th>\n",
       "      <td>https://images.gr-assets.com/books/1361975680l...</td>\n",
       "      <td>Classics|Fiction|Historical|Historical Fiction...</td>\n",
       "    </tr>\n",
       "    <tr>\n",
       "      <th>3</th>\n",
       "      <td>https://images.gr-assets.com/books/1320399351l...</td>\n",
       "      <td>Classics|Fiction|Romance</td>\n",
       "    </tr>\n",
       "    <tr>\n",
       "      <th>4</th>\n",
       "      <td>https://images.gr-assets.com/books/1361039443l...</td>\n",
       "      <td>Young Adult|Fantasy|Romance|Paranormal|Vampire...</td>\n",
       "    </tr>\n",
       "    <tr>\n",
       "      <th>...</th>\n",
       "      <td>...</td>\n",
       "      <td>...</td>\n",
       "    </tr>\n",
       "    <tr>\n",
       "      <th>54296</th>\n",
       "      <td>https://images.gr-assets.com/books/1312074392l...</td>\n",
       "      <td>Sports|Baseball|Sports and Games|Sports|Nonfic...</td>\n",
       "    </tr>\n",
       "    <tr>\n",
       "      <th>54297</th>\n",
       "      <td>https://images.gr-assets.com/books/1348841629l...</td>\n",
       "      <td>Nonfiction|Sports and Games|Sports</td>\n",
       "    </tr>\n",
       "    <tr>\n",
       "      <th>54298</th>\n",
       "      <td>https://images.gr-assets.com/books/1394277097l...</td>\n",
       "      <td>Sports|Baseball|Abandoned</td>\n",
       "    </tr>\n",
       "    <tr>\n",
       "      <th>54299</th>\n",
       "      <td>https://images.gr-assets.com/books/1403192135l...</td>\n",
       "      <td>Nonfiction|Autobiography|Memoir|Biography|Psyc...</td>\n",
       "    </tr>\n",
       "    <tr>\n",
       "      <th>54300</th>\n",
       "      <td>https://images.gr-assets.com/books/1349014225l...</td>\n",
       "      <td>Criticism|Literary Criticism|Philosophy|Theory...</td>\n",
       "    </tr>\n",
       "  </tbody>\n",
       "</table>\n",
       "<p>54301 rows × 2 columns</p>\n",
       "</div>"
      ],
      "text/plain": [
       "                                                 book_id  \\\n",
       "0      https://images.gr-assets.com/books/1447303603l...   \n",
       "1      https://images.gr-assets.com/books/1255614970l...   \n",
       "2      https://images.gr-assets.com/books/1361975680l...   \n",
       "3      https://images.gr-assets.com/books/1320399351l...   \n",
       "4      https://images.gr-assets.com/books/1361039443l...   \n",
       "...                                                  ...   \n",
       "54296  https://images.gr-assets.com/books/1312074392l...   \n",
       "54297  https://images.gr-assets.com/books/1348841629l...   \n",
       "54298  https://images.gr-assets.com/books/1394277097l...   \n",
       "54299  https://images.gr-assets.com/books/1403192135l...   \n",
       "54300  https://images.gr-assets.com/books/1349014225l...   \n",
       "\n",
       "                                                  genres  \n",
       "0      Young Adult|Fiction|Science Fiction|Dystopia|F...  \n",
       "1                            Fantasy|Young Adult|Fiction  \n",
       "2      Classics|Fiction|Historical|Historical Fiction...  \n",
       "3                               Classics|Fiction|Romance  \n",
       "4      Young Adult|Fantasy|Romance|Paranormal|Vampire...  \n",
       "...                                                  ...  \n",
       "54296  Sports|Baseball|Sports and Games|Sports|Nonfic...  \n",
       "54297                 Nonfiction|Sports and Games|Sports  \n",
       "54298                          Sports|Baseball|Abandoned  \n",
       "54299  Nonfiction|Autobiography|Memoir|Biography|Psyc...  \n",
       "54300  Criticism|Literary Criticism|Philosophy|Theory...  \n",
       "\n",
       "[54301 rows x 2 columns]"
      ]
     },
     "execution_count": 3,
     "metadata": {},
     "output_type": "execute_result"
    }
   ],
   "source": [
    "books = pd.read_csv('books.csv')\n",
    "books = books.filter(['book_id','title'])\n",
    "\n",
    "books2 = pd.read_csv('books1.csv')\n",
    "books2 = books2.filter(['image_url','genres'])\n",
    "books2 = books2.rename(columns={'image_url': 'book_id'})\n",
    "books2"
   ]
  },
  {
   "cell_type": "code",
   "execution_count": 4,
   "metadata": {},
   "outputs": [
    {
     "data": {
      "text/html": [
       "<div>\n",
       "<style scoped>\n",
       "    .dataframe tbody tr th:only-of-type {\n",
       "        vertical-align: middle;\n",
       "    }\n",
       "\n",
       "    .dataframe tbody tr th {\n",
       "        vertical-align: top;\n",
       "    }\n",
       "\n",
       "    .dataframe thead th {\n",
       "        text-align: right;\n",
       "    }\n",
       "</style>\n",
       "<table border=\"1\" class=\"dataframe\">\n",
       "  <thead>\n",
       "    <tr style=\"text-align: right;\">\n",
       "      <th></th>\n",
       "      <th>book_id</th>\n",
       "      <th>genres</th>\n",
       "    </tr>\n",
       "  </thead>\n",
       "  <tbody>\n",
       "    <tr>\n",
       "      <th>0</th>\n",
       "      <td>2767052</td>\n",
       "      <td>Young Adult|Fiction|Science Fiction|Dystopia|F...</td>\n",
       "    </tr>\n",
       "    <tr>\n",
       "      <th>1</th>\n",
       "      <td>2</td>\n",
       "      <td>Fantasy|Young Adult|Fiction</td>\n",
       "    </tr>\n",
       "    <tr>\n",
       "      <th>2</th>\n",
       "      <td>2657</td>\n",
       "      <td>Classics|Fiction|Historical|Historical Fiction...</td>\n",
       "    </tr>\n",
       "    <tr>\n",
       "      <th>3</th>\n",
       "      <td>1885</td>\n",
       "      <td>Classics|Fiction|Romance</td>\n",
       "    </tr>\n",
       "    <tr>\n",
       "      <th>4</th>\n",
       "      <td>41865</td>\n",
       "      <td>Young Adult|Fantasy|Romance|Paranormal|Vampire...</td>\n",
       "    </tr>\n",
       "    <tr>\n",
       "      <th>...</th>\n",
       "      <td>...</td>\n",
       "      <td>...</td>\n",
       "    </tr>\n",
       "    <tr>\n",
       "      <th>54296</th>\n",
       "      <td>10520617</td>\n",
       "      <td>Sports|Baseball|Sports and Games|Sports|Nonfic...</td>\n",
       "    </tr>\n",
       "    <tr>\n",
       "      <th>54297</th>\n",
       "      <td>4860405</td>\n",
       "      <td>Nonfiction|Sports and Games|Sports</td>\n",
       "    </tr>\n",
       "    <tr>\n",
       "      <th>54298</th>\n",
       "      <td>13243154</td>\n",
       "      <td>Sports|Baseball|Abandoned</td>\n",
       "    </tr>\n",
       "    <tr>\n",
       "      <th>54299</th>\n",
       "      <td>22318477</td>\n",
       "      <td>Nonfiction|Autobiography|Memoir|Biography|Psyc...</td>\n",
       "    </tr>\n",
       "    <tr>\n",
       "      <th>54300</th>\n",
       "      <td>279647</td>\n",
       "      <td>Criticism|Literary Criticism|Philosophy|Theory...</td>\n",
       "    </tr>\n",
       "  </tbody>\n",
       "</table>\n",
       "<p>54301 rows × 2 columns</p>\n",
       "</div>"
      ],
      "text/plain": [
       "        book_id                                             genres\n",
       "0       2767052  Young Adult|Fiction|Science Fiction|Dystopia|F...\n",
       "1             2                        Fantasy|Young Adult|Fiction\n",
       "2          2657  Classics|Fiction|Historical|Historical Fiction...\n",
       "3          1885                           Classics|Fiction|Romance\n",
       "4         41865  Young Adult|Fantasy|Romance|Paranormal|Vampire...\n",
       "...         ...                                                ...\n",
       "54296  10520617  Sports|Baseball|Sports and Games|Sports|Nonfic...\n",
       "54297   4860405                 Nonfiction|Sports and Games|Sports\n",
       "54298  13243154                          Sports|Baseball|Abandoned\n",
       "54299  22318477  Nonfiction|Autobiography|Memoir|Biography|Psyc...\n",
       "54300    279647  Criticism|Literary Criticism|Philosophy|Theory...\n",
       "\n",
       "[54301 rows x 2 columns]"
      ]
     },
     "execution_count": 4,
     "metadata": {},
     "output_type": "execute_result"
    }
   ],
   "source": [
    "def fun(x):\n",
    "    import os\n",
    "    temp = os.path.basename(str(x)).replace(\".jpg\", \"\")\n",
    "    return temp\n",
    "    \n",
    "\n",
    "books2['book_id'] = books2['book_id'].apply(fun)\n",
    "books2\n"
   ]
  },
  {
   "cell_type": "code",
   "execution_count": 5,
   "metadata": {},
   "outputs": [
    {
     "data": {
      "text/html": [
       "<div>\n",
       "<style scoped>\n",
       "    .dataframe tbody tr th:only-of-type {\n",
       "        vertical-align: middle;\n",
       "    }\n",
       "\n",
       "    .dataframe tbody tr th {\n",
       "        vertical-align: top;\n",
       "    }\n",
       "\n",
       "    .dataframe thead th {\n",
       "        text-align: right;\n",
       "    }\n",
       "</style>\n",
       "<table border=\"1\" class=\"dataframe\">\n",
       "  <thead>\n",
       "    <tr style=\"text-align: right;\">\n",
       "      <th></th>\n",
       "      <th>book_id</th>\n",
       "      <th>genres</th>\n",
       "    </tr>\n",
       "  </thead>\n",
       "  <tbody>\n",
       "    <tr>\n",
       "      <th>0</th>\n",
       "      <td>2767052.0</td>\n",
       "      <td>Young Adult|Fiction|Science Fiction|Dystopia|F...</td>\n",
       "    </tr>\n",
       "    <tr>\n",
       "      <th>1</th>\n",
       "      <td>2.0</td>\n",
       "      <td>Fantasy|Young Adult|Fiction</td>\n",
       "    </tr>\n",
       "    <tr>\n",
       "      <th>2</th>\n",
       "      <td>2657.0</td>\n",
       "      <td>Classics|Fiction|Historical|Historical Fiction...</td>\n",
       "    </tr>\n",
       "    <tr>\n",
       "      <th>3</th>\n",
       "      <td>1885.0</td>\n",
       "      <td>Classics|Fiction|Romance</td>\n",
       "    </tr>\n",
       "    <tr>\n",
       "      <th>4</th>\n",
       "      <td>41865.0</td>\n",
       "      <td>Young Adult|Fantasy|Romance|Paranormal|Vampire...</td>\n",
       "    </tr>\n",
       "    <tr>\n",
       "      <th>...</th>\n",
       "      <td>...</td>\n",
       "      <td>...</td>\n",
       "    </tr>\n",
       "    <tr>\n",
       "      <th>54296</th>\n",
       "      <td>10520617.0</td>\n",
       "      <td>Sports|Baseball|Sports and Games|Sports|Nonfic...</td>\n",
       "    </tr>\n",
       "    <tr>\n",
       "      <th>54297</th>\n",
       "      <td>4860405.0</td>\n",
       "      <td>Nonfiction|Sports and Games|Sports</td>\n",
       "    </tr>\n",
       "    <tr>\n",
       "      <th>54298</th>\n",
       "      <td>13243154.0</td>\n",
       "      <td>Sports|Baseball|Abandoned</td>\n",
       "    </tr>\n",
       "    <tr>\n",
       "      <th>54299</th>\n",
       "      <td>22318477.0</td>\n",
       "      <td>Nonfiction|Autobiography|Memoir|Biography|Psyc...</td>\n",
       "    </tr>\n",
       "    <tr>\n",
       "      <th>54300</th>\n",
       "      <td>279647.0</td>\n",
       "      <td>Criticism|Literary Criticism|Philosophy|Theory...</td>\n",
       "    </tr>\n",
       "  </tbody>\n",
       "</table>\n",
       "<p>54301 rows × 2 columns</p>\n",
       "</div>"
      ],
      "text/plain": [
       "          book_id                                             genres\n",
       "0       2767052.0  Young Adult|Fiction|Science Fiction|Dystopia|F...\n",
       "1             2.0                        Fantasy|Young Adult|Fiction\n",
       "2          2657.0  Classics|Fiction|Historical|Historical Fiction...\n",
       "3          1885.0                           Classics|Fiction|Romance\n",
       "4         41865.0  Young Adult|Fantasy|Romance|Paranormal|Vampire...\n",
       "...           ...                                                ...\n",
       "54296  10520617.0  Sports|Baseball|Sports and Games|Sports|Nonfic...\n",
       "54297   4860405.0                 Nonfiction|Sports and Games|Sports\n",
       "54298  13243154.0                          Sports|Baseball|Abandoned\n",
       "54299  22318477.0  Nonfiction|Autobiography|Memoir|Biography|Psyc...\n",
       "54300    279647.0  Criticism|Literary Criticism|Philosophy|Theory...\n",
       "\n",
       "[54301 rows x 2 columns]"
      ]
     },
     "execution_count": 5,
     "metadata": {},
     "output_type": "execute_result"
    }
   ],
   "source": [
    "books2[books2['book_id'].isna()]\n",
    "books2['book_id'] = pd.to_numeric(books2['book_id'], errors='coerce')\n",
    "books_genres = books.merge(books2, on='book_id')\n",
    "books2\n"
   ]
  },
  {
   "cell_type": "code",
   "execution_count": 6,
   "metadata": {},
   "outputs": [
    {
     "data": {
      "text/html": [
       "<div>\n",
       "<style scoped>\n",
       "    .dataframe tbody tr th:only-of-type {\n",
       "        vertical-align: middle;\n",
       "    }\n",
       "\n",
       "    .dataframe tbody tr th {\n",
       "        vertical-align: top;\n",
       "    }\n",
       "\n",
       "    .dataframe thead th {\n",
       "        text-align: right;\n",
       "    }\n",
       "</style>\n",
       "<table border=\"1\" class=\"dataframe\">\n",
       "  <thead>\n",
       "    <tr style=\"text-align: right;\">\n",
       "      <th></th>\n",
       "      <th>book_id</th>\n",
       "      <th>title</th>\n",
       "      <th>genres</th>\n",
       "    </tr>\n",
       "  </thead>\n",
       "  <tbody>\n",
       "    <tr>\n",
       "      <th>0</th>\n",
       "      <td>1</td>\n",
       "      <td>The Hunger Games (The Hunger Games, #1)</td>\n",
       "      <td>Fantasy|Young Adult|Fiction</td>\n",
       "    </tr>\n",
       "    <tr>\n",
       "      <th>1</th>\n",
       "      <td>2</td>\n",
       "      <td>Harry Potter and the Sorcerer's Stone (Harry P...</td>\n",
       "      <td>Fantasy|Young Adult|Fiction</td>\n",
       "    </tr>\n",
       "    <tr>\n",
       "      <th>2</th>\n",
       "      <td>3</td>\n",
       "      <td>Twilight (Twilight, #1)</td>\n",
       "      <td>Fantasy|Young Adult|Fiction</td>\n",
       "    </tr>\n",
       "    <tr>\n",
       "      <th>3</th>\n",
       "      <td>5</td>\n",
       "      <td>The Great Gatsby</td>\n",
       "      <td>Fantasy|Young Adult|Fiction</td>\n",
       "    </tr>\n",
       "    <tr>\n",
       "      <th>4</th>\n",
       "      <td>6</td>\n",
       "      <td>The Fault in Our Stars</td>\n",
       "      <td>Fantasy|Young Adult|Fiction</td>\n",
       "    </tr>\n",
       "    <tr>\n",
       "      <th>...</th>\n",
       "      <td>...</td>\n",
       "      <td>...</td>\n",
       "      <td>...</td>\n",
       "    </tr>\n",
       "    <tr>\n",
       "      <th>1249</th>\n",
       "      <td>9943</td>\n",
       "      <td>Sherlock Holmes and the Case of the Hound of t...</td>\n",
       "      <td>Christian Fiction|Christian|Fiction|Romance|Co...</td>\n",
       "    </tr>\n",
       "    <tr>\n",
       "      <th>1250</th>\n",
       "      <td>9957</td>\n",
       "      <td>Inside of a Dog: What Dogs See, Smell, and Know</td>\n",
       "      <td>Fiction|Contemporary|European Literature|Briti...</td>\n",
       "    </tr>\n",
       "    <tr>\n",
       "      <th>1251</th>\n",
       "      <td>9958</td>\n",
       "      <td>The Pacific</td>\n",
       "      <td>Fiction|Short Stories|Fantasy|Childrens</td>\n",
       "    </tr>\n",
       "    <tr>\n",
       "      <th>1252</th>\n",
       "      <td>9998</td>\n",
       "      <td>The Mauritius Command</td>\n",
       "      <td>Fiction|Cultural|Japan|Asian Literature|Japane...</td>\n",
       "    </tr>\n",
       "    <tr>\n",
       "      <th>1253</th>\n",
       "      <td>10000</td>\n",
       "      <td>The First World War</td>\n",
       "      <td>Fiction|Cultural|Japan|Asian Literature|Japane...</td>\n",
       "    </tr>\n",
       "  </tbody>\n",
       "</table>\n",
       "<p>1253 rows × 3 columns</p>\n",
       "</div>"
      ],
      "text/plain": [
       "      book_id                                              title  \\\n",
       "0           1            The Hunger Games (The Hunger Games, #1)   \n",
       "1           2  Harry Potter and the Sorcerer's Stone (Harry P...   \n",
       "2           3                            Twilight (Twilight, #1)   \n",
       "3           5                                   The Great Gatsby   \n",
       "4           6                             The Fault in Our Stars   \n",
       "...       ...                                                ...   \n",
       "1249     9943  Sherlock Holmes and the Case of the Hound of t...   \n",
       "1250     9957    Inside of a Dog: What Dogs See, Smell, and Know   \n",
       "1251     9958                                        The Pacific   \n",
       "1252     9998                              The Mauritius Command   \n",
       "1253    10000                                The First World War   \n",
       "\n",
       "                                                 genres  \n",
       "0                           Fantasy|Young Adult|Fiction  \n",
       "1                           Fantasy|Young Adult|Fiction  \n",
       "2                           Fantasy|Young Adult|Fiction  \n",
       "3                           Fantasy|Young Adult|Fiction  \n",
       "4                           Fantasy|Young Adult|Fiction  \n",
       "...                                                 ...  \n",
       "1249  Christian Fiction|Christian|Fiction|Romance|Co...  \n",
       "1250  Fiction|Contemporary|European Literature|Briti...  \n",
       "1251            Fiction|Short Stories|Fantasy|Childrens  \n",
       "1252  Fiction|Cultural|Japan|Asian Literature|Japane...  \n",
       "1253  Fiction|Cultural|Japan|Asian Literature|Japane...  \n",
       "\n",
       "[1253 rows x 3 columns]"
      ]
     },
     "execution_count": 6,
     "metadata": {},
     "output_type": "execute_result"
    }
   ],
   "source": [
    "books_genres = books_genres.dropna()\n",
    "books_genres.reset_index(drop=True)\n",
    "books_genres"
   ]
  },
  {
   "cell_type": "markdown",
   "metadata": {},
   "source": [
    "### Step 3: Exploratory Data Analysis"
   ]
  },
  {
   "cell_type": "code",
   "execution_count": 7,
   "metadata": {},
   "outputs": [],
   "source": [
    "LIMIT = 500000\n",
    "ratings = ratings.iloc[:LIMIT]"
   ]
  },
  {
   "cell_type": "code",
   "execution_count": 8,
   "metadata": {},
   "outputs": [
    {
     "name": "stdout",
     "output_type": "stream",
     "text": [
      "Number of ratings: 500000\n",
      "Number of unique bookId's: 6575\n",
      "Number of unique users: 6923\n",
      "Average number of ratings per user: 72.22\n",
      "Average number of ratings per book: 76.05\n"
     ]
    }
   ],
   "source": [
    "n_ratings = len(ratings)\n",
    "n_books = ratings['book_id'].nunique()\n",
    "n_users = ratings['user_id'].nunique()\n",
    "\n",
    "print(f\"Number of ratings: {n_ratings}\")\n",
    "print(f\"Number of unique bookId's: {n_books}\")\n",
    "print(f\"Number of unique users: {n_users}\")\n",
    "print(f\"Average number of ratings per user: {round(n_ratings/n_users, 2)}\")\n",
    "print(f\"Average number of ratings per book: {round(n_ratings/n_books, 2)}\")"
   ]
  },
  {
   "cell_type": "code",
   "execution_count": 9,
   "metadata": {},
   "outputs": [
    {
     "data": {
      "image/png": "[encoded data removed]",
      "text/plain": [
       "<Figure size 640x480 with 1 Axes>"
      ]
     },
     "metadata": {},
     "output_type": "display_data"
    }
   ],
   "source": [
    "sns.countplot(x=\"rating\", data=ratings, palette=\"viridis\")\n",
    "plt.title(\"Distribution of book ratings\", fontsize=14)\n",
    "plt.show()"
   ]
  },
  {
   "cell_type": "code",
   "execution_count": 10,
   "metadata": {},
   "outputs": [
    {
     "name": "stdout",
     "output_type": "stream",
     "text": [
      "Mean global rating: 3.8.\n",
      "Mean rating per user: 3.82.\n"
     ]
    }
   ],
   "source": [
    "print(f\"Mean global rating: {round(ratings['rating'].mean(),2)}.\")\n",
    "\n",
    "mean_ratings = ratings.groupby('user_id')['rating'].mean()\n",
    "print(f\"Mean rating per user: {round(mean_ratings.mean(),2)}.\")"
   ]
  },
  {
   "cell_type": "markdown",
   "metadata": {},
   "source": [
    "#### Best vs. Worst book\n",
    "\n",
    "Which book has the lowest and highest average rating?"
   ]
  },
  {
   "cell_type": "code",
   "execution_count": 11,
   "metadata": {},
   "outputs": [
    {
     "data": {
      "text/html": [
       "<div>\n",
       "<style scoped>\n",
       "    .dataframe tbody tr th:only-of-type {\n",
       "        vertical-align: middle;\n",
       "    }\n",
       "\n",
       "    .dataframe tbody tr th {\n",
       "        vertical-align: top;\n",
       "    }\n",
       "\n",
       "    .dataframe thead th {\n",
       "        text-align: right;\n",
       "    }\n",
       "</style>\n",
       "<table border=\"1\" class=\"dataframe\">\n",
       "  <thead>\n",
       "    <tr style=\"text-align: right;\">\n",
       "      <th></th>\n",
       "      <th>book_id</th>\n",
       "      <th>title</th>\n",
       "    </tr>\n",
       "  </thead>\n",
       "  <tbody>\n",
       "    <tr>\n",
       "      <th>3408</th>\n",
       "      <td>3409</td>\n",
       "      <td>The Winner Stands Alone</td>\n",
       "    </tr>\n",
       "  </tbody>\n",
       "</table>\n",
       "</div>"
      ],
      "text/plain": [
       "      book_id                    title\n",
       "3408     3409  The Winner Stands Alone"
      ]
     },
     "execution_count": 11,
     "metadata": {},
     "output_type": "execute_result"
    }
   ],
   "source": [
    "mean_ratings = ratings.groupby('book_id')[['rating']].mean()\n",
    "lowest_rated = mean_ratings['rating'].idxmin()\n",
    "books[books['book_id'] == lowest_rated]\n"
   ]
  },
  {
   "cell_type": "markdown",
   "metadata": {},
   "source": [
    "`The Winner Stands Alone` has the lowest average rating."
   ]
  },
  {
   "cell_type": "code",
   "execution_count": 12,
   "metadata": {},
   "outputs": [
    {
     "data": {
      "text/html": [
       "<div>\n",
       "<style scoped>\n",
       "    .dataframe tbody tr th:only-of-type {\n",
       "        vertical-align: middle;\n",
       "    }\n",
       "\n",
       "    .dataframe tbody tr th {\n",
       "        vertical-align: top;\n",
       "    }\n",
       "\n",
       "    .dataframe thead th {\n",
       "        text-align: right;\n",
       "    }\n",
       "</style>\n",
       "<table border=\"1\" class=\"dataframe\">\n",
       "  <thead>\n",
       "    <tr style=\"text-align: right;\">\n",
       "      <th></th>\n",
       "      <th>book_id</th>\n",
       "      <th>title</th>\n",
       "    </tr>\n",
       "  </thead>\n",
       "  <tbody>\n",
       "    <tr>\n",
       "      <th>223</th>\n",
       "      <td>224</td>\n",
       "      <td>Fallen (Fallen, #1)</td>\n",
       "    </tr>\n",
       "  </tbody>\n",
       "</table>\n",
       "</div>"
      ],
      "text/plain": [
       "     book_id                title\n",
       "223      224  Fallen (Fallen, #1)"
      ]
     },
     "execution_count": 12,
     "metadata": {},
     "output_type": "execute_result"
    }
   ],
   "source": [
    "highest_rated = mean_ratings['rating'].idxmax()\n",
    "books[books['book_id']== highest_rated]"
   ]
  },
  {
   "cell_type": "markdown",
   "metadata": {},
   "source": [
    "The Complete Calvin and Hobbes may be the \"highest\" rated book, but it might be a FP. A better approach for evaluating book popularity is to look at the [Bayesian average](https://en.wikipedia.org/wiki/Bayesian_average)."
   ]
  },
  {
   "cell_type": "markdown",
   "metadata": {},
   "source": [
    "#### Bayesian Average\n",
    "\n",
    "Bayesian Average is defined as:\n",
    "\n",
    "$r_{i} = \\frac{C \\times m + \\Sigma{\\text{reviews}}}{C+N}$\n",
    "\n",
    "where $C$ represents our confidence, $m$ represents our prior, and $N$ is the total number of reviews for book $i$. In this case, our prior will be the average rating across all books. By defintion, C represents \"the typical data set size\". Let's make $C$ be the average number of ratings for a given book."
   ]
  },
  {
   "cell_type": "code",
   "execution_count": 13,
   "metadata": {},
   "outputs": [],
   "source": [
    "book_stats = ratings.groupby('book_id')[['rating']].agg(['count', 'mean'])\n",
    "book_stats.columns = book_stats.columns.droplevel()"
   ]
  },
  {
   "cell_type": "code",
   "execution_count": 14,
   "metadata": {},
   "outputs": [],
   "source": [
    "C = book_stats['count'].mean()\n",
    "m = book_stats['mean'].mean()\n",
    "\n",
    "def bayesian_avg(ratings):\n",
    "    bayesian_avg = (C*m+ratings.sum())/(C+ratings.count())\n",
    "    return bayesian_avg\n",
    "\n",
    "bayesian_avg_ratings = ratings.groupby('book_id')['rating'].agg(bayesian_avg).reset_index()\n",
    "bayesian_avg_ratings.columns = ['book_id', 'bayesian_avg']\n",
    "book_stats = book_stats.merge(bayesian_avg_ratings, on='book_id')"
   ]
  },
  {
   "cell_type": "code",
   "execution_count": 15,
   "metadata": {},
   "outputs": [
    {
     "data": {
      "text/html": [
       "<div>\n",
       "<style scoped>\n",
       "    .dataframe tbody tr th:only-of-type {\n",
       "        vertical-align: middle;\n",
       "    }\n",
       "\n",
       "    .dataframe tbody tr th {\n",
       "        vertical-align: top;\n",
       "    }\n",
       "\n",
       "    .dataframe thead th {\n",
       "        text-align: right;\n",
       "    }\n",
       "</style>\n",
       "<table border=\"1\" class=\"dataframe\">\n",
       "  <thead>\n",
       "    <tr style=\"text-align: right;\">\n",
       "      <th></th>\n",
       "      <th>book_id</th>\n",
       "      <th>count</th>\n",
       "      <th>mean</th>\n",
       "      <th>bayesian_avg</th>\n",
       "      <th>title</th>\n",
       "    </tr>\n",
       "  </thead>\n",
       "  <tbody>\n",
       "    <tr>\n",
       "      <th>1047</th>\n",
       "      <td>1338</td>\n",
       "      <td>219</td>\n",
       "      <td>4.639269</td>\n",
       "      <td>4.430588</td>\n",
       "      <td>The Book of Mormon: Another Testament of Jesus...</td>\n",
       "    </tr>\n",
       "    <tr>\n",
       "      <th>92</th>\n",
       "      <td>102</td>\n",
       "      <td>806</td>\n",
       "      <td>4.467742</td>\n",
       "      <td>4.412726</td>\n",
       "      <td>Where the Wild Things Are</td>\n",
       "    </tr>\n",
       "    <tr>\n",
       "      <th>21</th>\n",
       "      <td>25</td>\n",
       "      <td>2186</td>\n",
       "      <td>4.415828</td>\n",
       "      <td>4.396121</td>\n",
       "      <td>Harry Potter and the Deathly Hallows (Harry Po...</td>\n",
       "    </tr>\n",
       "    <tr>\n",
       "      <th>0</th>\n",
       "      <td>1</td>\n",
       "      <td>292</td>\n",
       "      <td>4.496575</td>\n",
       "      <td>4.358768</td>\n",
       "      <td>The Hunger Games (The Hunger Games, #1)</td>\n",
       "    </tr>\n",
       "    <tr>\n",
       "      <th>353</th>\n",
       "      <td>422</td>\n",
       "      <td>146</td>\n",
       "      <td>4.623288</td>\n",
       "      <td>4.351473</td>\n",
       "      <td>Harry Potter Boxset (Harry Potter, #1-7)</td>\n",
       "    </tr>\n",
       "  </tbody>\n",
       "</table>\n",
       "</div>"
      ],
      "text/plain": [
       "      book_id  count      mean  bayesian_avg  \\\n",
       "1047     1338    219  4.639269      4.430588   \n",
       "92        102    806  4.467742      4.412726   \n",
       "21         25   2186  4.415828      4.396121   \n",
       "0           1    292  4.496575      4.358768   \n",
       "353       422    146  4.623288      4.351473   \n",
       "\n",
       "                                                  title  \n",
       "1047  The Book of Mormon: Another Testament of Jesus...  \n",
       "92                            Where the Wild Things Are  \n",
       "21    Harry Potter and the Deathly Hallows (Harry Po...  \n",
       "0               The Hunger Games (The Hunger Games, #1)  \n",
       "353            Harry Potter Boxset (Harry Potter, #1-7)  "
      ]
     },
     "execution_count": 15,
     "metadata": {},
     "output_type": "execute_result"
    }
   ],
   "source": [
    "book_stats = book_stats.merge(books[['book_id', 'title']])\n",
    "book_stats.sort_values('bayesian_avg', ascending=False).head()"
   ]
  },
  {
   "cell_type": "markdown",
   "metadata": {},
   "source": [
    "Using the Bayesian average, we see that `Harry Potter and the Deathly Hallows `, `Harry Potter Boxset`, and `Words of Radiance ` are the most highly rated books. This result makes much more sense since these books are critically acclaimed."
   ]
  },
  {
   "cell_type": "code",
   "execution_count": 16,
   "metadata": {},
   "outputs": [
    {
     "data": {
      "text/html": [
       "<div>\n",
       "<style scoped>\n",
       "    .dataframe tbody tr th:only-of-type {\n",
       "        vertical-align: middle;\n",
       "    }\n",
       "\n",
       "    .dataframe tbody tr th {\n",
       "        vertical-align: top;\n",
       "    }\n",
       "\n",
       "    .dataframe thead th {\n",
       "        text-align: right;\n",
       "    }\n",
       "</style>\n",
       "<table border=\"1\" class=\"dataframe\">\n",
       "  <thead>\n",
       "    <tr style=\"text-align: right;\">\n",
       "      <th></th>\n",
       "      <th>book_id</th>\n",
       "      <th>count</th>\n",
       "      <th>mean</th>\n",
       "      <th>bayesian_avg</th>\n",
       "      <th>title</th>\n",
       "    </tr>\n",
       "  </thead>\n",
       "  <tbody>\n",
       "    <tr>\n",
       "      <th>2875</th>\n",
       "      <td>4009</td>\n",
       "      <td>107</td>\n",
       "      <td>2.289720</td>\n",
       "      <td>2.929464</td>\n",
       "      <td>Four Blondes</td>\n",
       "    </tr>\n",
       "    <tr>\n",
       "      <th>1614</th>\n",
       "      <td>2136</td>\n",
       "      <td>203</td>\n",
       "      <td>2.605911</td>\n",
       "      <td>2.939396</td>\n",
       "      <td>The Jane Austen Book Club</td>\n",
       "    </tr>\n",
       "    <tr>\n",
       "      <th>1192</th>\n",
       "      <td>1547</td>\n",
       "      <td>309</td>\n",
       "      <td>2.737864</td>\n",
       "      <td>2.953483</td>\n",
       "      <td>The Mermaid Chair</td>\n",
       "    </tr>\n",
       "    <tr>\n",
       "      <th>1525</th>\n",
       "      <td>2015</td>\n",
       "      <td>236</td>\n",
       "      <td>2.805085</td>\n",
       "      <td>3.054763</td>\n",
       "      <td>The Bridges of Madison County</td>\n",
       "    </tr>\n",
       "    <tr>\n",
       "      <th>2553</th>\n",
       "      <td>3550</td>\n",
       "      <td>105</td>\n",
       "      <td>2.504762</td>\n",
       "      <td>3.061248</td>\n",
       "      <td>The Almost Moon</td>\n",
       "    </tr>\n",
       "  </tbody>\n",
       "</table>\n",
       "</div>"
      ],
      "text/plain": [
       "      book_id  count      mean  bayesian_avg                          title\n",
       "2875     4009    107  2.289720      2.929464                   Four Blondes\n",
       "1614     2136    203  2.605911      2.939396      The Jane Austen Book Club\n",
       "1192     1547    309  2.737864      2.953483              The Mermaid Chair\n",
       "1525     2015    236  2.805085      3.054763  The Bridges of Madison County\n",
       "2553     3550    105  2.504762      3.061248                The Almost Moon"
      ]
     },
     "execution_count": 16,
     "metadata": {},
     "output_type": "execute_result"
    }
   ],
   "source": [
    "book_stats.sort_values('bayesian_avg', ascending=True).head()"
   ]
  },
  {
   "cell_type": "markdown",
   "metadata": {},
   "source": [
    "With Bayesian averaging, it looks like `Fifty Shades of Grey`, `Twilight`, and `New Moon` are the worst rated books. `The Complete Calvin and Hobbes` isn't so bad after all."
   ]
  },
  {
   "cell_type": "markdown",
   "metadata": {},
   "source": [
    "#### A Glimpse at Book Genres\n",
    "\n",
    "The books dataset needs to be cleaned in two ways:\n",
    "\n",
    "- `genres` is expressed as a string with a pipe `|` separating each genre. We will manipulate this string into a list, which will make it much easier to analyze."
   ]
  },
  {
   "cell_type": "code",
   "execution_count": 17,
   "metadata": {},
   "outputs": [
    {
     "data": {
      "text/html": [
       "<div>\n",
       "<style scoped>\n",
       "    .dataframe tbody tr th:only-of-type {\n",
       "        vertical-align: middle;\n",
       "    }\n",
       "\n",
       "    .dataframe tbody tr th {\n",
       "        vertical-align: top;\n",
       "    }\n",
       "\n",
       "    .dataframe thead th {\n",
       "        text-align: right;\n",
       "    }\n",
       "</style>\n",
       "<table border=\"1\" class=\"dataframe\">\n",
       "  <thead>\n",
       "    <tr style=\"text-align: right;\">\n",
       "      <th></th>\n",
       "      <th>book_id</th>\n",
       "      <th>title</th>\n",
       "      <th>genres</th>\n",
       "    </tr>\n",
       "  </thead>\n",
       "  <tbody>\n",
       "    <tr>\n",
       "      <th>0</th>\n",
       "      <td>1</td>\n",
       "      <td>The Hunger Games (The Hunger Games, #1)</td>\n",
       "      <td>[Fantasy, Young Adult, Fiction]</td>\n",
       "    </tr>\n",
       "    <tr>\n",
       "      <th>1</th>\n",
       "      <td>2</td>\n",
       "      <td>Harry Potter and the Sorcerer's Stone (Harry P...</td>\n",
       "      <td>[Fantasy, Young Adult, Fiction]</td>\n",
       "    </tr>\n",
       "    <tr>\n",
       "      <th>2</th>\n",
       "      <td>3</td>\n",
       "      <td>Twilight (Twilight, #1)</td>\n",
       "      <td>[Fantasy, Young Adult, Fiction]</td>\n",
       "    </tr>\n",
       "    <tr>\n",
       "      <th>3</th>\n",
       "      <td>5</td>\n",
       "      <td>The Great Gatsby</td>\n",
       "      <td>[Fantasy, Young Adult, Fiction]</td>\n",
       "    </tr>\n",
       "    <tr>\n",
       "      <th>4</th>\n",
       "      <td>6</td>\n",
       "      <td>The Fault in Our Stars</td>\n",
       "      <td>[Fantasy, Young Adult, Fiction]</td>\n",
       "    </tr>\n",
       "  </tbody>\n",
       "</table>\n",
       "</div>"
      ],
      "text/plain": [
       "   book_id                                              title  \\\n",
       "0        1            The Hunger Games (The Hunger Games, #1)   \n",
       "1        2  Harry Potter and the Sorcerer's Stone (Harry P...   \n",
       "2        3                            Twilight (Twilight, #1)   \n",
       "3        5                                   The Great Gatsby   \n",
       "4        6                             The Fault in Our Stars   \n",
       "\n",
       "                            genres  \n",
       "0  [Fantasy, Young Adult, Fiction]  \n",
       "1  [Fantasy, Young Adult, Fiction]  \n",
       "2  [Fantasy, Young Adult, Fiction]  \n",
       "3  [Fantasy, Young Adult, Fiction]  \n",
       "4  [Fantasy, Young Adult, Fiction]  "
      ]
     },
     "execution_count": 17,
     "metadata": {},
     "output_type": "execute_result"
    }
   ],
   "source": [
    "books_genres['genres'] = books_genres['genres'].apply(lambda x: x.split(\"|\"))\n",
    "books_genres.head()"
   ]
  },
  {
   "cell_type": "markdown",
   "metadata": {},
   "source": [
    "**How many book genres are there?**"
   ]
  },
  {
   "cell_type": "code",
   "execution_count": 18,
   "metadata": {},
   "outputs": [
    {
     "name": "stdout",
     "output_type": "stream",
     "text": [
      "There are 331 genres.\n"
     ]
    },
    {
     "data": {
      "text/plain": [
       "Counter({'Fantasy': 262,\n",
       "         'Young Adult': 139,\n",
       "         'Fiction': 900,\n",
       "         'Magic': 7,\n",
       "         'Science Fiction': 149,\n",
       "         'Humor': 113,\n",
       "         'Classics': 412,\n",
       "         'Nonfiction': 299,\n",
       "         'Science': 86,\n",
       "         'History': 100,\n",
       "         'Travel': 33,\n",
       "         'Cultural': 164,\n",
       "         'Africa': 25,\n",
       "         'Autobiography': 113,\n",
       "         'Memoir': 95,\n",
       "         'Australia': 6,\n",
       "         'Writing': 56,\n",
       "         'Essays': 43,\n",
       "         'European Literature': 71,\n",
       "         'British Literature': 28,\n",
       "         'Humanities': 7,\n",
       "         'Language': 12,\n",
       "         'Linguistics': 2,\n",
       "         'Adventure': 55,\n",
       "         'Survival': 4,\n",
       "         'Childrens': 139,\n",
       "         'Urban Fantasy': 7,\n",
       "         'Paranormal': 31,\n",
       "         'Fairies': 2,\n",
       "         'Middle Grade': 11,\n",
       "         'Romance': 114,\n",
       "         'Mythology': 16,\n",
       "         'Mermaids': 1,\n",
       "         'Historical': 317,\n",
       "         'Historical Fiction': 228,\n",
       "         'African American': 4,\n",
       "         'Geology': 1,\n",
       "         'Environment': 10,\n",
       "         'Nature': 5,\n",
       "         'Russia': 19,\n",
       "         'Literature': 339,\n",
       "         'Russian Literature': 16,\n",
       "         'Novels': 130,\n",
       "         'Ireland': 5,\n",
       "         'Irish Literature': 5,\n",
       "         'Epic Fantasy': 5,\n",
       "         'High Fantasy': 3,\n",
       "         'Contemporary': 112,\n",
       "         'Academic': 43,\n",
       "         'College': 1,\n",
       "         'Poetry': 40,\n",
       "         'Greece': 1,\n",
       "         'Adult Fiction': 11,\n",
       "         'Erotica': 3,\n",
       "         'American': 47,\n",
       "         'Biography': 113,\n",
       "         'Criticism': 6,\n",
       "         'Literary Criticism': 4,\n",
       "         'Biography Memoir': 8,\n",
       "         '19th Century': 15,\n",
       "         'France': 20,\n",
       "         'French Literature': 7,\n",
       "         'War': 52,\n",
       "         'World War II': 12,\n",
       "         'Religion': 40,\n",
       "         'Philosophy': 80,\n",
       "         'Victorian': 4,\n",
       "         'Magical Realism': 30,\n",
       "         'Psychology': 37,\n",
       "         'Health': 12,\n",
       "         'Biology': 8,\n",
       "         'Self Help': 46,\n",
       "         'Horror': 49,\n",
       "         'Mystery': 192,\n",
       "         'Time Travel': 7,\n",
       "         'Science Fiction Fantasy': 20,\n",
       "         'Steampunk': 2,\n",
       "         'Journalism': 5,\n",
       "         'Short Stories': 65,\n",
       "         '20th Century': 7,\n",
       "         'New York': 5,\n",
       "         'Animals': 29,\n",
       "         'Dogs': 2,\n",
       "         'The United States Of America': 1,\n",
       "         'Anthropology': 4,\n",
       "         'Sociology': 15,\n",
       "         'Politics': 46,\n",
       "         'Economics': 25,\n",
       "         'Physics': 15,\n",
       "         'Technology': 6,\n",
       "         'Plays': 37,\n",
       "         'Drama': 28,\n",
       "         'Theatre': 8,\n",
       "         'Music': 6,\n",
       "         'Culture': 6,\n",
       "         'Pop Culture': 2,\n",
       "         'Spirituality': 30,\n",
       "         'Business': 38,\n",
       "         'Theology': 2,\n",
       "         'Christianity': 7,\n",
       "         'Dystopia': 21,\n",
       "         'Medical': 2,\n",
       "         'Medicine': 2,\n",
       "         'Alternative Medicine': 1,\n",
       "         'Food and Drink': 15,\n",
       "         'Food': 10,\n",
       "         'Sports and Games': 13,\n",
       "         'Sports': 17,\n",
       "         'Baseball': 4,\n",
       "         'Parenting': 3,\n",
       "         'Adoption': 1,\n",
       "         'Alternate History': 5,\n",
       "         'Comedy': 7,\n",
       "         'Astronomy': 4,\n",
       "         'Popular Science': 4,\n",
       "         'Space': 6,\n",
       "         'Mathematics': 3,\n",
       "         'Unfinished': 2,\n",
       "         'Abandoned': 10,\n",
       "         'Cyberpunk': 3,\n",
       "         'Games': 1,\n",
       "         'Design': 2,\n",
       "         'Inspirational': 7,\n",
       "         'Sequential Art': 41,\n",
       "         'Manga': 9,\n",
       "         'Graphic Novels': 16,\n",
       "         'Comics': 18,\n",
       "         'Comics Manga': 1,\n",
       "         'Action': 3,\n",
       "         'Italy': 8,\n",
       "         'Thriller': 110,\n",
       "         'School': 34,\n",
       "         'Relationships': 3,\n",
       "         'Crime': 45,\n",
       "         'Mystery Thriller': 9,\n",
       "         'Suspense': 23,\n",
       "         'Finance': 11,\n",
       "         'Personal Finance': 2,\n",
       "         'Currency': 3,\n",
       "         'Money': 3,\n",
       "         'Personal Development': 14,\n",
       "         'Audiobook': 11,\n",
       "         'Spy Thriller': 8,\n",
       "         'Espionage': 8,\n",
       "         'Japan': 12,\n",
       "         'North American Hi...': 16,\n",
       "         'American History': 17,\n",
       "         'Military History': 9,\n",
       "         'American Revolution': 2,\n",
       "         'China': 8,\n",
       "         'Asia': 11,\n",
       "         'Marriage': 1,\n",
       "         'Prehistoric': 1,\n",
       "         'Adult': 7,\n",
       "         'Military Fiction': 8,\n",
       "         'Art': 22,\n",
       "         'Ancient History': 1,\n",
       "         'Read For School': 6,\n",
       "         'Tragedy': 1,\n",
       "         'Ancient': 1,\n",
       "         'Holocaust': 6,\n",
       "         'Lgbt': 11,\n",
       "         'M M Romance': 1,\n",
       "         'Gay': 4,\n",
       "         'Productivity': 2,\n",
       "         'Israel': 2,\n",
       "         'Judaism': 1,\n",
       "         'Spanish Literature': 9,\n",
       "         'World History': 1,\n",
       "         'Christian': 16,\n",
       "         'Christian Living': 2,\n",
       "         'Social Issues': 3,\n",
       "         'Poverty': 2,\n",
       "         'Social Movements': 1,\n",
       "         'Social Justice': 1,\n",
       "         'Theory': 5,\n",
       "         'Sexuality': 3,\n",
       "         'Education': 5,\n",
       "         'Noir': 5,\n",
       "         'Detective': 8,\n",
       "         'Atheism': 1,\n",
       "         'Evolution': 2,\n",
       "         'Media Tie In': 2,\n",
       "         'Star Trek': 1,\n",
       "         'Glbt': 2,\n",
       "         'Queer': 2,\n",
       "         'Film': 3,\n",
       "         'Christian Fiction': 7,\n",
       "         'Womens Fiction': 56,\n",
       "         'Chick Lit': 56,\n",
       "         'Classic Literature': 11,\n",
       "         'Literary Fiction': 17,\n",
       "         'Northern Africa': 5,\n",
       "         'Egypt': 4,\n",
       "         'Civil War': 4,\n",
       "         'Presidents': 5,\n",
       "         'Leadership': 5,\n",
       "         'New Age': 1,\n",
       "         'Buddhism': 3,\n",
       "         'Cycling': 1,\n",
       "         'Geography': 3,\n",
       "         'Cities': 3,\n",
       "         'Southern Africa': 9,\n",
       "         'South Africa': 7,\n",
       "         'Engineering': 2,\n",
       "         'Legal Thriller': 11,\n",
       "         'Political Science': 1,\n",
       "         'Portugal': 5,\n",
       "         'Portuguese Literature': 5,\n",
       "         'Buisness': 1,\n",
       "         'Management': 5,\n",
       "         'Entrepreneurship': 2,\n",
       "         'Art History': 2,\n",
       "         'Society': 1,\n",
       "         'Medieval': 2,\n",
       "         'Canada': 13,\n",
       "         'Death': 1,\n",
       "         'Photography': 2,\n",
       "         '18th Century': 2,\n",
       "         'German Literature': 11,\n",
       "         'Realistic Fiction': 7,\n",
       "         'Race': 2,\n",
       "         'Arthurian': 1,\n",
       "         'Drawing': 1,\n",
       "         'Reference': 7,\n",
       "         'Jewish': 5,\n",
       "         'Books About Books': 2,\n",
       "         'Nutrition': 1,\n",
       "         'Book Club': 5,\n",
       "         'Neuroscience': 2,\n",
       "         'Brain': 1,\n",
       "         'Canadian Literature': 2,\n",
       "         'Gender': 1,\n",
       "         'Family': 3,\n",
       "         'India': 17,\n",
       "         'Islam': 1,\n",
       "         'Cookbooks': 1,\n",
       "         'Cooking': 2,\n",
       "         'Space Opera': 3,\n",
       "         'Speculative Fiction': 1,\n",
       "         'Ghosts': 1,\n",
       "         'Supernatural': 1,\n",
       "         'Computer Science': 10,\n",
       "         'Programming': 2,\n",
       "         'Technical': 2,\n",
       "         'Software': 2,\n",
       "         'Coding': 1,\n",
       "         'Computers': 1,\n",
       "         'Football': 5,\n",
       "         'Soccer': 2,\n",
       "         'Funny': 3,\n",
       "         'Latin American Literature': 2,\n",
       "         'Germany': 2,\n",
       "         'Roman': 1,\n",
       "         '21st Century': 1,\n",
       "         'Mental Health': 7,\n",
       "         'Mental Illness': 3,\n",
       "         'Teaching': 1,\n",
       "         'Genetics': 1,\n",
       "         'Academia': 1,\n",
       "         'Spain': 2,\n",
       "         'High School': 2,\n",
       "         'Law': 2,\n",
       "         'Communication': 1,\n",
       "         'Asian Literature': 11,\n",
       "         'Japanese Literature': 8,\n",
       "         'Picture Books': 13,\n",
       "         'Indian Literature': 1,\n",
       "         'Sudan': 1,\n",
       "         'Eastern Africa': 2,\n",
       "         'Kenya': 2,\n",
       "         'Southern': 4,\n",
       "         'Gothic': 3,\n",
       "         'Comic Book': 1,\n",
       "         'Holiday': 9,\n",
       "         'Christmas': 7,\n",
       "         'True Crime': 2,\n",
       "         'Historical Romance': 2,\n",
       "         'Chapter Books': 1,\n",
       "         'Military': 3,\n",
       "         'Church': 1,\n",
       "         'Church History': 1,\n",
       "         'Vampires': 14,\n",
       "         'Textbooks': 2,\n",
       "         'Architecture': 1,\n",
       "         'Sustainability': 1,\n",
       "         'World War I': 5,\n",
       "         'Latin American': 2,\n",
       "         'Poetry Plays': 1,\n",
       "         'Nobel Prize': 1,\n",
       "         'Westerns': 2,\n",
       "         'Biblical Fiction': 2,\n",
       "         'Italian Literature': 4,\n",
       "         'Scandinavian Literature': 1,\n",
       "         'Apocalyptic': 2,\n",
       "         'Post Apocalyptic': 2,\n",
       "         'Dungeons and Dragons': 1,\n",
       "         'Forgotten Realms': 1,\n",
       "         'Contemporary Romance': 4,\n",
       "         'Feminism': 3,\n",
       "         'Hip Hop': 1,\n",
       "         'Botswana': 2,\n",
       "         'American Civil War': 1,\n",
       "         'Faith': 2,\n",
       "         'Movies': 1,\n",
       "         'Superheroes': 2,\n",
       "         'Marvel': 1,\n",
       "         'Graphic Novels Comics': 1,\n",
       "         'Historical Mystery': 1,\n",
       "         'Iran': 2,\n",
       "         'Prayer': 1,\n",
       "         'Czech Literature': 1,\n",
       "         'Urban Studies': 1,\n",
       "         'Lds': 2,\n",
       "         'Fairy Tales': 8,\n",
       "         'Retellings': 2,\n",
       "         'Coming Of Age': 2,\n",
       "         'Food Writing': 1,\n",
       "         'Foodie': 1,\n",
       "         'Aviation': 1,\n",
       "         'Zombies': 1,\n",
       "         'Aliens': 1,\n",
       "         'Social Science': 1,\n",
       "         'Romantic Suspense': 2,\n",
       "         'Dragons': 1,\n",
       "         'Paranormal Romance': 1,\n",
       "         'Fairy Tale Retellings': 1,\n",
       "         'Natural History': 1,\n",
       "         'Southern Gothic': 1,\n",
       "         'Western Africa': 1,\n",
       "         'Mali': 1})"
      ]
     },
     "execution_count": 18,
     "metadata": {},
     "output_type": "execute_result"
    }
   ],
   "source": [
    "from collections import Counter\n",
    "\n",
    "genre_frequency = Counter(g for genres in books_genres['genres'] for g in genres)\n",
    "\n",
    "print(f\"There are {len(genre_frequency)} genres.\")\n",
    "\n",
    "genre_frequency"
   ]
  },
  {
   "cell_type": "code",
   "execution_count": 19,
   "metadata": {},
   "outputs": [
    {
     "name": "stdout",
     "output_type": "stream",
     "text": [
      "The 5 most common genres: \n",
      " [('Fiction', 900), ('Classics', 412), ('Literature', 339), ('Historical', 317), ('Nonfiction', 299)]\n"
     ]
    }
   ],
   "source": [
    "print(\"The 5 most common genres: \\n\", genre_frequency.most_common(5))"
   ]
  },
  {
   "cell_type": "markdown",
   "metadata": {},
   "source": [
    "### Step 4: Data Pre-processing\n",
    "\n",
    "We are going to use a technique called colaborative filtering to generate recommendations for users. This technique is based on the premise that similar people like similar things. \n",
    "\n",
    "The first step is to transform our data into a user-item matrix, also known as a \"utility\" matrix. In this matrix, rows represent users and columns represent books. The beauty of collaborative filtering is that it doesn't require any information about the users or the books user to generate recommendations.\n",
    "\n",
    "<img src=\"imgs/user-book-matrix.png\" width=60%/>"
   ]
  },
  {
   "cell_type": "markdown",
   "metadata": {},
   "source": [
    "The `create_X()` function outputs a sparse matrix X with four mapper dictionaries:\n",
    "\n",
    "- **user_mapper**: maps user id to user index\n",
    "- **book_mapper**: maps book id to book index\n",
    "- **user_inv_mapper**: maps user index to user id\n",
    "- **book_inv_mapper**: maps book index to book id\n",
    "\n",
    "We need these dictionaries because they map which row/column of the utility matrix corresponds to which user/book id.\n",
    "\n",
    "Our X (user-item) matrix is a [scipy.sparse.csr_matrix](https://docs.scipy.org/doc/scipy-0.14.0/reference/generated/scipy.sparse.csr_matrix.html) which stores the data sparsely."
   ]
  },
  {
   "cell_type": "code",
   "execution_count": 20,
   "metadata": {},
   "outputs": [],
   "source": [
    "from scipy.sparse import csr_matrix\n",
    "\n",
    "def create_X(df):\n",
    "    \"\"\"\n",
    "    Generates a sparse matrix from ratings dataframe.\n",
    "    \n",
    "    Args:\n",
    "        df: pandas dataframe containing 3 columns (user_id, book_id, rating)\n",
    "    \n",
    "    Returns:\n",
    "        X: sparse matrix\n",
    "        user_mapper: dict that maps user id's to user indices\n",
    "        user_inv_mapper: dict that maps user indices to user id's\n",
    "        book_mapper: dict that maps book id's to book indices\n",
    "        book_inv_mapper: dict that maps book indices to book id's\n",
    "    \"\"\"\n",
    "    M = df['user_id'].nunique()\n",
    "    N = df['book_id'].nunique()\n",
    "\n",
    "    user_mapper = dict(zip(np.unique(df['user_id']), list(range(M))))\n",
    "    book_mapper = dict(zip(np.unique(df['book_id']), list(range(N))))\n",
    "    \n",
    "    user_inv_mapper = dict(zip(list(range(M)), np.unique(df[\"user_id\"])))\n",
    "    book_inv_mapper = dict(zip(list(range(N)), np.unique(df[\"book_id\"])))\n",
    "    \n",
    "    user_index = [user_mapper[i] for i in df['user_id']]\n",
    "    item_index = [book_mapper[i] for i in df['book_id']]\n",
    "\n",
    "    X = csr_matrix((df[\"rating\"], (user_index,item_index)), shape=(M,N))\n",
    "    \n",
    "    return X, user_mapper, book_mapper, user_inv_mapper, book_inv_mapper\n",
    "\n",
    "X, user_mapper, book_mapper, user_inv_mapper, book_inv_mapper = create_X(ratings)"
   ]
  },
  {
   "cell_type": "code",
   "execution_count": 21,
   "metadata": {},
   "outputs": [
    {
     "data": {
      "text/plain": [
       "<6923x6575 sparse matrix of type '<class 'numpy.int64'>'\n",
       "\twith 500000 stored elements in Compressed Sparse Row format>"
      ]
     },
     "execution_count": 21,
     "metadata": {},
     "output_type": "execute_result"
    }
   ],
   "source": [
    "X"
   ]
  },
  {
   "cell_type": "markdown",
   "metadata": {},
   "source": [
    "#### Evaluating sparsity\n",
    "\n",
    "Here, we calculate sparsity by dividing the number of empty elements by total number of elements. The number of stored (non-empty) elements in our matrix is equivalent to the number of ratings in our dataset."
   ]
  },
  {
   "cell_type": "code",
   "execution_count": 22,
   "metadata": {},
   "outputs": [
    {
     "name": "stdout",
     "output_type": "stream",
     "text": [
      "Matrix sparsity: 98.9%\n"
     ]
    }
   ],
   "source": [
    "n_total = X.shape[0]*X.shape[1]\n",
    "n_ratings = X.nnz\n",
    "sparsity = n_ratings/n_total\n",
    "print(f\"Matrix sparsity: {round((1-sparsity)*100,2)}%\")"
   ]
  },
  {
   "cell_type": "markdown",
   "metadata": {},
   "source": [
    "`csr_matrix.nnz` counts the stored values in our sparse matrix. The rest of our cells are empty.\n",
    "\n",
    "The **cold start problem** is when there are new users and books in our matrix that do not have any ratings. In our Goodreads dataset, all users and books have at least one rating but in general, it's useful to check which users and books have few interactions."
   ]
  },
  {
   "cell_type": "code",
   "execution_count": 23,
   "metadata": {},
   "outputs": [
    {
     "name": "stdout",
     "output_type": "stream",
     "text": [
      "Most active user rated 193  books.\n",
      "Least active user rated 1 books.\n"
     ]
    }
   ],
   "source": [
    "n_ratings_per_user = X.getnnz(axis=1)\n",
    "\n",
    "print(f\"Most active user rated {n_ratings_per_user.max()}  books.\")\n",
    "print(f\"Least active user rated {n_ratings_per_user.min()} books.\")"
   ]
  },
  {
   "cell_type": "code",
   "execution_count": 24,
   "metadata": {},
   "outputs": [
    {
     "name": "stdout",
     "output_type": "stream",
     "text": [
      "Most rated book has 2563 ratings.\n",
      "Least rated book has 1 ratings.\n"
     ]
    }
   ],
   "source": [
    "n_ratings_per_book = X.getnnz(axis=0)\n",
    "\n",
    "print(f\"Most rated book has {n_ratings_per_book.max()} ratings.\")\n",
    "print(f\"Least rated book has {n_ratings_per_book.min()} ratings.\")"
   ]
  },
  {
   "cell_type": "code",
   "execution_count": 25,
   "metadata": {},
   "outputs": [
    {
     "data": {
      "image/png": "[encoded data removed]",
      "text/plain": [
       "<Figure size 1600x400 with 2 Axes>"
      ]
     },
     "metadata": {},
     "output_type": "display_data"
    }
   ],
   "source": [
    "plt.figure(figsize=(16,4))\n",
    "plt.subplot(1,2,1)\n",
    "sns.kdeplot(n_ratings_per_user, shade=True)\n",
    "plt.xlim(0)\n",
    "plt.title(\"Number of Ratings Per User\", fontsize=14)\n",
    "plt.xlabel(\"number of ratings per user\")\n",
    "plt.ylabel(\"density\")\n",
    "plt.subplot(1,2,2)\n",
    "sns.kdeplot(n_ratings_per_book, shade=True)\n",
    "plt.xlim(0)\n",
    "plt.title(\"Number of Ratings Per Book\", fontsize=14)\n",
    "plt.xlabel(\"number of ratings per book\")\n",
    "plt.ylabel(\"density\")\n",
    "plt.show()"
   ]
  },
  {
   "cell_type": "markdown",
   "metadata": {},
   "source": [
    "#### Normalizing our data\n",
    "\n",
    "User-item bias is defined as: $b_{ui} = \\mu + b_{u} + b_{i}$\n",
    "\n",
    "We will perform mean normalization by subtracting $b_{i}$ from each book's rating."
   ]
  },
  {
   "cell_type": "code",
   "execution_count": 26,
   "metadata": {},
   "outputs": [],
   "source": [
    "sum_ratings_per_book = X.sum(axis=0)\n",
    "mean_rating_per_book = sum_ratings_per_book/n_ratings_per_book"
   ]
  },
  {
   "cell_type": "markdown",
   "metadata": {},
   "source": [
    "Now that we have the mean rating for each book, we are going to subtract this from our utility matrix. In order to do this, we need to expand our 1D `mean_rating_per_book` array into a matrix with the same shape as our utility matrix `(n_users, n_books)`. Numpy's `tile` method is useful for this task."
   ]
  },
  {
   "cell_type": "code",
   "execution_count": 27,
   "metadata": {},
   "outputs": [],
   "source": [
    "X_mean_book = np.tile(mean_rating_per_book, (X.shape[0],1))"
   ]
  },
  {
   "cell_type": "code",
   "execution_count": 28,
   "metadata": {},
   "outputs": [
    {
     "data": {
      "text/plain": [
       "(6923, 6575)"
      ]
     },
     "execution_count": 28,
     "metadata": {},
     "output_type": "execute_result"
    }
   ],
   "source": [
    "X_mean_book.shape"
   ]
  },
  {
   "cell_type": "markdown",
   "metadata": {},
   "source": [
    "`X_mean_book` is a matrix of shape (n_users, n_books) in which each column is populated with a given book's mean rating.\n",
    "\n",
    "We can easily normalize our X matrix by subtracting `X_mean_book` from original `X`."
   ]
  },
  {
   "cell_type": "code",
   "execution_count": 29,
   "metadata": {},
   "outputs": [],
   "source": [
    "X_norm = X - csr_matrix(X_mean_book)"
   ]
  },
  {
   "cell_type": "markdown",
   "metadata": {},
   "source": [
    "As expected, `X_norm`'s values are different from `X`s. Cells that are empty in the original matrix are now replaced with negative values representing the mean rating of a given book. "
   ]
  },
  {
   "cell_type": "code",
   "execution_count": 30,
   "metadata": {},
   "outputs": [
    {
     "name": "stdout",
     "output_type": "stream",
     "text": [
      "Original X: [[0 0 0 ... 0 0 0]]\n",
      "Normalized X: [[-4.49657534 -4.0956486  -3.61711712 ... -4.         -3.93333333\n",
      "  -4.        ]]\n"
     ]
    }
   ],
   "source": [
    "print(\"Original X:\", X[0].todense())\n",
    "print(\"Normalized X:\", X_norm[0].todense())"
   ]
  },
  {
   "cell_type": "markdown",
   "metadata": {},
   "source": [
    "### Step 5: Item-item Recommendations with k-Nearest Neighbors"
   ]
  },
  {
   "cell_type": "markdown",
   "metadata": {},
   "source": [
    "We are going to find the $k$ books that have the most similar user engagement vectors for book $i$."
   ]
  },
  {
   "cell_type": "code",
   "execution_count": 31,
   "metadata": {},
   "outputs": [],
   "source": [
    "from sklearn.neighbors import NearestNeighbors\n",
    "\n",
    "def find_similar_books(book_id, X, book_mapper, book_inv_mapper, k, metric='cosine'):\n",
    "    \"\"\"\n",
    "    Finds k-nearest neighbours for a given book id.\n",
    "    \n",
    "    Args:\n",
    "        book_id: id of the book of interest\n",
    "        X: user-item utility matrix\n",
    "        k: number of similar books to retrieve\n",
    "        metric: distance metric for kNN calculations\n",
    "    \n",
    "    Output: returns list of k similar book ID's\n",
    "    \"\"\"\n",
    "    X = X.T\n",
    "    neighbour_ids = []\n",
    "    \n",
    "    book_ind = book_mapper[book_id]\n",
    "    book_vec = X[book_ind]\n",
    "    if isinstance(book_vec, (np.ndarray)):\n",
    "        book_vec = book_vec.reshape(1,-1)  # we need one roe and full columns\n",
    "    # use k+1 since kNN output includes the book_id of interest\n",
    "    kNN = NearestNeighbors(n_neighbors=k+1, algorithm=\"brute\", metric=metric)  #default =minkowski\n",
    "    kNN.fit(X)\n",
    "    neighbour = kNN.kneighbors(book_vec, return_distance=False)\n",
    "    for i in range(0,k):  \n",
    "        n = neighbour.item(i)    \n",
    "        neighbour_ids.append(book_inv_mapper[n])  #appends the book id from the index\n",
    "    neighbour_ids.pop(0)  # its the same items\n",
    "    return neighbour_ids"
   ]
  },
  {
   "cell_type": "markdown",
   "metadata": {},
   "source": [
    "`find_similar_books()` takes in a `book_id` and `X` matrix, and outputs a list of $k$ books that are similar to the `book_id` of interest.\n",
    "\n",
    "Let's see it in action. We will first create another mapper that maps book_id to title so that our results are interpretable."
   ]
  },
  {
   "cell_type": "code",
   "execution_count": 32,
   "metadata": {},
   "outputs": [
    {
     "data": {
      "text/plain": [
       "[18, 24, 23, 21, 27, 25, 53, 1286, 6133]"
      ]
     },
     "execution_count": 32,
     "metadata": {},
     "output_type": "execute_result"
    }
   ],
   "source": [
    "similar_books = find_similar_books(2, X_norm, book_mapper, book_inv_mapper, k=10)\n",
    "similar_books"
   ]
  },
  {
   "cell_type": "markdown",
   "metadata": {},
   "source": [
    "`find_similar_books()` returns a list of `book`'s that are most similar to your book of interest. Let's convert these id's to titles so that we can interpret our results. To make things easier, we will create a dictionary that maps `book_id` to `title`."
   ]
  },
  {
   "cell_type": "code",
   "execution_count": 33,
   "metadata": {},
   "outputs": [
    {
     "name": "stdout",
     "output_type": "stream",
     "text": [
      "Because you read Harry Potter and the Sorcerer's Stone (Harry Potter, #1):\n",
      "Harry Potter and the Prisoner of Azkaban (Harry Potter, #3)\n",
      "Harry Potter and the Goblet of Fire (Harry Potter, #4)\n",
      "Harry Potter and the Chamber of Secrets (Harry Potter, #2)\n",
      "Harry Potter and the Order of the Phoenix (Harry Potter, #5)\n",
      "Harry Potter and the Half-Blood Prince (Harry Potter, #6)\n",
      "Harry Potter and the Deathly Hallows (Harry Potter, #7)\n",
      "Eragon (The Inheritance Cycle, #1)\n",
      "Quidditch Through the Ages\n",
      "The Reality Bug (Pendragon, #4)\n"
     ]
    }
   ],
   "source": [
    "book_titles = dict(zip(books['book_id'], books['title']))\n",
    "book_id = 2\n",
    "\n",
    "similar_books = find_similar_books(book_id, X_norm, book_mapper, book_inv_mapper, metric='cosine', k=10)\n",
    "book_title = book_titles[book_id]\n",
    "\n",
    "print(f\"Because you read {book_title}:\")\n",
    "for i in similar_books:\n",
    "    print(book_titles[i])"
   ]
  },
  {
   "cell_type": "markdown",
   "metadata": {},
   "source": [
    "The results above show the 10 books that are most similar to Harry Potter and the Sorcerer's Stone. Most books in this list are Harry Potter, which seems pretty reasonable. Note that these recommendations are based solely on user-item ratings. Book features such as genres are not used in this approach."
   ]
  },
  {
   "cell_type": "markdown",
   "metadata": {},
   "source": [
    "We can also play around with the kNN distance metric and see what results you would get if you use \"manhattan\" or \"euclidean\" instead of \"cosine\"."
   ]
  },
  {
   "cell_type": "code",
   "execution_count": 34,
   "metadata": {},
   "outputs": [
    {
     "name": "stdout",
     "output_type": "stream",
     "text": [
      "Because you read Harry Potter and the Sorcerer's Stone (Harry Potter, #1):\n",
      "Harry Potter and the Prisoner of Azkaban (Harry Potter, #3)\n",
      "Harry Potter and the Chamber of Secrets (Harry Potter, #2)\n",
      "Harry Potter and the Goblet of Fire (Harry Potter, #4)\n",
      "Harry Potter and the Order of the Phoenix (Harry Potter, #5)\n",
      "Harry Potter and the Half-Blood Prince (Harry Potter, #6)\n",
      "Harry Potter and the Deathly Hallows (Harry Potter, #7)\n",
      "Claimed By Shadow (Cassandra Palmer, #2)\n",
      "Lies Women Believe: And the Truth that Sets Them Free\n",
      "1/4 جرام\n"
     ]
    }
   ],
   "source": [
    "book_titles = dict(zip(books['book_id'], books['title']))\n",
    "book_id = 2\n",
    "\n",
    "similar_books = find_similar_books(book_id, X_norm, book_mapper, book_inv_mapper, metric='euclidean', k=10)\n",
    "book_title = book_titles[book_id]\n",
    "\n",
    "print(f\"Because you read {book_title}:\")\n",
    "for i in similar_books:\n",
    "    print(book_titles[i])"
   ]
  },
  {
   "cell_type": "markdown",
   "metadata": {},
   "source": [
    "## Step 6: Collaborative filtering .\n",
    "### solution to the cold start problem.\n",
    "\n",
    "\n",
    "\n",
    "Collaborative filtering relies solely on user-item interactions within the utility matrix. The issue with this approach is that brand new users or items with no iteractions get excluded from the recommendation system. This is called the **cold start problem**. Content-based filtering is a way to handle this problem by generating recommendations based on user and item features.\n",
    "\n",
    "First, we need to convert the `genres` column into binary features. Each genre will have its own column in the dataframe, and will be populated with 0 or 1."
   ]
  },
  {
   "cell_type": "code",
   "execution_count": 35,
   "metadata": {},
   "outputs": [
    {
     "name": "stdout",
     "output_type": "stream",
     "text": [
      "There are 10000 unique books in our books dataset.\n"
     ]
    }
   ],
   "source": [
    "n_books = books['book_id'].nunique()\n",
    "print(f\"There are {n_books} unique books in our books dataset.\")"
   ]
  },
  {
   "cell_type": "code",
   "execution_count": 47,
   "metadata": {},
   "outputs": [],
   "source": [
    "genres = set(g for G in books_genres['genres'] for g in G)\n",
    "\n",
    "for g in genres:\n",
    "    books_genres[g] = books_genres.genres.transform(lambda x: int(g in x))\n",
    "    \n",
    "book_genres = books_genres.drop(columns=['book_id', 'title','genres'])"
   ]
  },
  {
   "cell_type": "code",
   "execution_count": 37,
   "metadata": {},
   "outputs": [
    {
     "data": {
      "text/html": [
       "<div>\n",
       "<style scoped>\n",
       "    .dataframe tbody tr th:only-of-type {\n",
       "        vertical-align: middle;\n",
       "    }\n",
       "\n",
       "    .dataframe tbody tr th {\n",
       "        vertical-align: top;\n",
       "    }\n",
       "\n",
       "    .dataframe thead th {\n",
       "        text-align: right;\n",
       "    }\n",
       "</style>\n",
       "<table border=\"1\" class=\"dataframe\">\n",
       "  <thead>\n",
       "    <tr style=\"text-align: right;\">\n",
       "      <th></th>\n",
       "      <th>Relationships</th>\n",
       "      <th>Classics</th>\n",
       "      <th>Fairy Tales</th>\n",
       "      <th>Urban Fantasy</th>\n",
       "      <th>Detective</th>\n",
       "      <th>Comedy</th>\n",
       "      <th>French Literature</th>\n",
       "      <th>Computer Science</th>\n",
       "      <th>Feminism</th>\n",
       "      <th>Sports and Games</th>\n",
       "      <th>...</th>\n",
       "      <th>Biology</th>\n",
       "      <th>Environment</th>\n",
       "      <th>Academia</th>\n",
       "      <th>Personal Finance</th>\n",
       "      <th>Graphic Novels Comics</th>\n",
       "      <th>Astronomy</th>\n",
       "      <th>Survival</th>\n",
       "      <th>Manga</th>\n",
       "      <th>19th Century</th>\n",
       "      <th>Africa</th>\n",
       "    </tr>\n",
       "  </thead>\n",
       "  <tbody>\n",
       "    <tr>\n",
       "      <th>0</th>\n",
       "      <td>0</td>\n",
       "      <td>0</td>\n",
       "      <td>0</td>\n",
       "      <td>0</td>\n",
       "      <td>0</td>\n",
       "      <td>0</td>\n",
       "      <td>0</td>\n",
       "      <td>0</td>\n",
       "      <td>0</td>\n",
       "      <td>0</td>\n",
       "      <td>...</td>\n",
       "      <td>0</td>\n",
       "      <td>0</td>\n",
       "      <td>0</td>\n",
       "      <td>0</td>\n",
       "      <td>0</td>\n",
       "      <td>0</td>\n",
       "      <td>0</td>\n",
       "      <td>0</td>\n",
       "      <td>0</td>\n",
       "      <td>0</td>\n",
       "    </tr>\n",
       "    <tr>\n",
       "      <th>1</th>\n",
       "      <td>0</td>\n",
       "      <td>0</td>\n",
       "      <td>0</td>\n",
       "      <td>0</td>\n",
       "      <td>0</td>\n",
       "      <td>0</td>\n",
       "      <td>0</td>\n",
       "      <td>0</td>\n",
       "      <td>0</td>\n",
       "      <td>0</td>\n",
       "      <td>...</td>\n",
       "      <td>0</td>\n",
       "      <td>0</td>\n",
       "      <td>0</td>\n",
       "      <td>0</td>\n",
       "      <td>0</td>\n",
       "      <td>0</td>\n",
       "      <td>0</td>\n",
       "      <td>0</td>\n",
       "      <td>0</td>\n",
       "      <td>0</td>\n",
       "    </tr>\n",
       "    <tr>\n",
       "      <th>2</th>\n",
       "      <td>0</td>\n",
       "      <td>0</td>\n",
       "      <td>0</td>\n",
       "      <td>0</td>\n",
       "      <td>0</td>\n",
       "      <td>0</td>\n",
       "      <td>0</td>\n",
       "      <td>0</td>\n",
       "      <td>0</td>\n",
       "      <td>0</td>\n",
       "      <td>...</td>\n",
       "      <td>0</td>\n",
       "      <td>0</td>\n",
       "      <td>0</td>\n",
       "      <td>0</td>\n",
       "      <td>0</td>\n",
       "      <td>0</td>\n",
       "      <td>0</td>\n",
       "      <td>0</td>\n",
       "      <td>0</td>\n",
       "      <td>0</td>\n",
       "    </tr>\n",
       "    <tr>\n",
       "      <th>3</th>\n",
       "      <td>0</td>\n",
       "      <td>0</td>\n",
       "      <td>0</td>\n",
       "      <td>0</td>\n",
       "      <td>0</td>\n",
       "      <td>0</td>\n",
       "      <td>0</td>\n",
       "      <td>0</td>\n",
       "      <td>0</td>\n",
       "      <td>0</td>\n",
       "      <td>...</td>\n",
       "      <td>0</td>\n",
       "      <td>0</td>\n",
       "      <td>0</td>\n",
       "      <td>0</td>\n",
       "      <td>0</td>\n",
       "      <td>0</td>\n",
       "      <td>0</td>\n",
       "      <td>0</td>\n",
       "      <td>0</td>\n",
       "      <td>0</td>\n",
       "    </tr>\n",
       "    <tr>\n",
       "      <th>4</th>\n",
       "      <td>0</td>\n",
       "      <td>0</td>\n",
       "      <td>0</td>\n",
       "      <td>0</td>\n",
       "      <td>0</td>\n",
       "      <td>0</td>\n",
       "      <td>0</td>\n",
       "      <td>0</td>\n",
       "      <td>0</td>\n",
       "      <td>0</td>\n",
       "      <td>...</td>\n",
       "      <td>0</td>\n",
       "      <td>0</td>\n",
       "      <td>0</td>\n",
       "      <td>0</td>\n",
       "      <td>0</td>\n",
       "      <td>0</td>\n",
       "      <td>0</td>\n",
       "      <td>0</td>\n",
       "      <td>0</td>\n",
       "      <td>0</td>\n",
       "    </tr>\n",
       "  </tbody>\n",
       "</table>\n",
       "<p>5 rows × 331 columns</p>\n",
       "</div>"
      ],
      "text/plain": [
       "   Relationships  Classics  Fairy Tales  Urban Fantasy  Detective  Comedy  \\\n",
       "0              0         0            0              0          0       0   \n",
       "1              0         0            0              0          0       0   \n",
       "2              0         0            0              0          0       0   \n",
       "3              0         0            0              0          0       0   \n",
       "4              0         0            0              0          0       0   \n",
       "\n",
       "   French Literature  Computer Science  Feminism  Sports and Games  ...  \\\n",
       "0                  0                 0         0                 0  ...   \n",
       "1                  0                 0         0                 0  ...   \n",
       "2                  0                 0         0                 0  ...   \n",
       "3                  0                 0         0                 0  ...   \n",
       "4                  0                 0         0                 0  ...   \n",
       "\n",
       "   Biology  Environment  Academia  Personal Finance  Graphic Novels Comics  \\\n",
       "0        0            0         0                 0                      0   \n",
       "1        0            0         0                 0                      0   \n",
       "2        0            0         0                 0                      0   \n",
       "3        0            0         0                 0                      0   \n",
       "4        0            0         0                 0                      0   \n",
       "\n",
       "   Astronomy  Survival  Manga  19th Century  Africa  \n",
       "0          0         0      0             0       0  \n",
       "1          0         0      0             0       0  \n",
       "2          0         0      0             0       0  \n",
       "3          0         0      0             0       0  \n",
       "4          0         0      0             0       0  \n",
       "\n",
       "[5 rows x 331 columns]"
      ]
     },
     "execution_count": 37,
     "metadata": {},
     "output_type": "execute_result"
    }
   ],
   "source": [
    "book_genres.head()"
   ]
  },
  {
   "cell_type": "code",
   "execution_count": 38,
   "metadata": {},
   "outputs": [
    {
     "name": "stdout",
     "output_type": "stream",
     "text": [
      "Dimensions of our genres cosine similarity matrix: (1253, 1253)\n"
     ]
    }
   ],
   "source": [
    "from sklearn.metrics.pairwise import cosine_similarity\n",
    "\n",
    "cosine_sim = cosine_similarity(book_genres, book_genres)\n",
    "print(f\"Dimensions of our genres cosine similarity matrix: {cosine_sim.shape}\")"
   ]
  },
  {
   "cell_type": "markdown",
   "metadata": {},
   "source": [
    "The dimensions of our cosine similarity matrix are $M \\times M$ where $M$ represents the total number of books."
   ]
  },
  {
   "cell_type": "code",
   "execution_count": 39,
   "metadata": {},
   "outputs": [
    {
     "data": {
      "text/plain": [
       "[\"Harry Potter and the Sorcerer's Stone (Harry Potter, #1)\",\n",
       " 'Harry Potter and the Order of the Phoenix (Harry Potter, #5)',\n",
       " 'Harry Potter and the Goblet of Fire (Harry Potter, #4)',\n",
       " 'Harry Potter and the Deathly Hallows (Harry Potter, #7)',\n",
       " 'Harry Potter and the Half-Blood Prince (Harry Potter, #6)',\n",
       " 'Harry Potter Boxed Set, Books 1-5 (Harry Potter, #1-5)']"
      ]
     },
     "execution_count": 39,
     "metadata": {},
     "output_type": "execute_result"
    }
   ],
   "source": [
    "def book_finder(title):\n",
    "    return books_genres[books_genres['title'].str.contains(title)]['title'].tolist()\n",
    "\n",
    "book_finder('Harry Potter')"
   ]
  },
  {
   "cell_type": "code",
   "execution_count": 40,
   "metadata": {},
   "outputs": [
    {
     "name": "stdout",
     "output_type": "stream",
     "text": [
      "Recommendations for Twilight (Twilight, #1):\n"
     ]
    },
    {
     "data": {
      "text/plain": [
       "1      Harry Potter and the Sorcerer's Stone (Harry P...\n",
       "2                                Twilight (Twilight, #1)\n",
       "3                                  To Kill a Mockingbird\n",
       "4                                       The Great Gatsby\n",
       "242                                               Misery\n",
       "5                                 The Fault in Our Stars\n",
       "6                                             The Hobbit\n",
       "22     Harry Potter and the Chamber of Secrets (Harry...\n",
       "342                                     The Runaway Jury\n",
       "389          The Strange Case of Dr. Jekyll and Mr. Hyde\n",
       "Name: title, dtype: object"
      ]
     },
     "execution_count": 40,
     "metadata": {},
     "output_type": "execute_result"
    }
   ],
   "source": [
    "book_idx = dict(zip(books_genres['title'], list(books_genres.index)))\n",
    "title = book_finder('Twilight')[0]\n",
    "n_recommendations = 10\n",
    "\n",
    "idx = book_idx[title]\n",
    "sim_scores = list(enumerate(cosine_sim[idx]))\n",
    "sim_scores = sorted(sim_scores, key=lambda x: x[1], reverse=True)\n",
    "sim_scores = sim_scores[1:(n_recommendations+1)]\n",
    "similar_books = [i[0] for i in sim_scores]\n",
    "\n",
    "print(f\"Recommendations for {title}:\")\n",
    "books['title'].iloc[similar_books]"
   ]
  },
  {
   "cell_type": "markdown",
   "metadata": {},
   "source": [
    "With this approach, we are assuming that two books are \"similar\" if they have similar genres. These \"similar book\" recommendations are based solely on the metadata from our books dataset. "
   ]
  },
  {
   "cell_type": "markdown",
   "metadata": {},
   "source": [
    "### Dimensionality Reduction with Matrix Factorization\n",
    "\n",
    "Matrix factorization (MF) is a linear algebra technique that can help us discover latent features underlying the interactions between users and books. These latent features give a more compact representation of user tastes and item descriptions. MF is particularly useful for very sparse data and can enhance the quality of recommendations. The algorithm works by factorizing the original user-item matrix into two factor matrices:\n",
    "\n",
    "- user-factor matrix (n_users, k)\n",
    "- item-factor matrix (k, n_items)\n",
    "\n",
    "We are reducing the dimensions of our original matrix into \"taste\" dimensions. We cannot interpret what each latent feature $k$ represents. However, we could imagine that one latent feature may represent users who like shakespearan classics, while another latent feature may represent books which are engineering related.\n",
    "\n",
    "$$A_{mn}\\approx U_{mk}\\times V{nk}^T = \\hat{X} $$\n",
    "<img src=\"imgs/matrix-factorization.png\" width=\"50%\"/>"
   ]
  },
  {
   "cell_type": "code",
   "execution_count": 41,
   "metadata": {},
   "outputs": [
    {
     "name": "stdout",
     "output_type": "stream",
     "text": [
      "(6575, 6923)\n",
      "(6575, 20)\n"
     ]
    }
   ],
   "source": [
    "from sklearn.decomposition import TruncatedSVD\n",
    "\n",
    "svd = TruncatedSVD(n_components=20, n_iter=10)\n",
    "print(X.T.shape)\n",
    "\n",
    "Z = svd.fit_transform(X.T) #book factor matrix\n",
    "print(Z.shape)"
   ]
  },
  {
   "cell_type": "code",
   "execution_count": 42,
   "metadata": {},
   "outputs": [
    {
     "name": "stdout",
     "output_type": "stream",
     "text": [
      "Because you read The Lion, the Witch, and the Wardrobe (Chronicles of Narnia, #1):\n",
      "Prince Caspian (Chronicles of Narnia, #2)\n",
      "The Magician's Nephew (Chronicles of Narnia, #6)\n",
      "The Chronicles of Narnia (Chronicles of Narnia, #1-7)\n",
      "The Horse and His Boy (Chronicles of Narnia, #5)\n",
      "The Last Battle (Chronicles of Narnia, #7)\n",
      "The Silver Chair (Chronicles of Narnia, #4)\n",
      "The Voyage of the Dawn Treader (Chronicles of Narnia, #3)\n",
      "Harry Potter Boxset (Harry Potter, #1-7)\n",
      "The Screwtape Letters\n"
     ]
    }
   ],
   "source": [
    "book_id = 37\n",
    "similar_books = find_similar_books(book_id, Z.T, book_mapper, book_inv_mapper, metric='cosine', k=10)\n",
    "book_title = book_titles[book_id]\n",
    "\n",
    "print(f\"Because you read {book_title}:\")\n",
    "for i in similar_books:\n",
    "    print(book_titles[i])"
   ]
  },
  {
   "cell_type": "markdown",
   "metadata": {},
   "source": [
    "The results above are the most similar books to `The Lion, the Witch, and the Wardrobe (Chronicles of Narnia, #1)` using kNN on our “compressed” book-factor matrix. We reduced the dimensions down to n_components=30. We can think of each component representing a latent feature such as book genre."
   ]
  },
  {
   "cell_type": "markdown",
   "metadata": {},
   "source": [
    "#### Predicting missing ratings to generate top N recommendations"
   ]
  },
  {
   "cell_type": "markdown",
   "metadata": {},
   "source": [
    "With matrix factorization, we can also predict missing ratings in our original user-item matrix.\n",
    "\n",
    "We can do this by reconstructing our matrix by getting the inner product of our user-factor matrix and book-factor matrix. "
   ]
  },
  {
   "cell_type": "code",
   "execution_count": 43,
   "metadata": {},
   "outputs": [],
   "source": [
    "new_X = svd.inverse_transform(Z).T\n",
    "#print(new_X.shape)\n",
    "\n",
    "#t = csr_matrix(new_X.round(decimals=1))\n",
    "\n",
    "#print(t)"
   ]
  },
  {
   "cell_type": "markdown",
   "metadata": {},
   "source": [
    "Let’s look at `userId=10`’s recommendations. In the table below, we can see which books that have been rated highly:"
   ]
  },
  {
   "cell_type": "code",
   "execution_count": 44,
   "metadata": {},
   "outputs": [
    {
     "data": {
      "text/html": [
       "<div>\n",
       "<style scoped>\n",
       "    .dataframe tbody tr th:only-of-type {\n",
       "        vertical-align: middle;\n",
       "    }\n",
       "\n",
       "    .dataframe tbody tr th {\n",
       "        vertical-align: top;\n",
       "    }\n",
       "\n",
       "    .dataframe thead th {\n",
       "        text-align: right;\n",
       "    }\n",
       "</style>\n",
       "<table border=\"1\" class=\"dataframe\">\n",
       "  <thead>\n",
       "    <tr style=\"text-align: right;\">\n",
       "      <th></th>\n",
       "      <th>user_id</th>\n",
       "      <th>book_id</th>\n",
       "      <th>rating</th>\n",
       "      <th>title</th>\n",
       "    </tr>\n",
       "  </thead>\n",
       "  <tbody>\n",
       "    <tr>\n",
       "      <th>39</th>\n",
       "      <td>11</td>\n",
       "      <td>1256</td>\n",
       "      <td>5</td>\n",
       "      <td>City of Thieves</td>\n",
       "    </tr>\n",
       "    <tr>\n",
       "      <th>25</th>\n",
       "      <td>11</td>\n",
       "      <td>662</td>\n",
       "      <td>5</td>\n",
       "      <td>Interpreter of Maladies</td>\n",
       "    </tr>\n",
       "    <tr>\n",
       "      <th>26</th>\n",
       "      <td>11</td>\n",
       "      <td>354</td>\n",
       "      <td>5</td>\n",
       "      <td>Beloved</td>\n",
       "    </tr>\n",
       "    <tr>\n",
       "      <th>27</th>\n",
       "      <td>11</td>\n",
       "      <td>595</td>\n",
       "      <td>5</td>\n",
       "      <td>A Separate Peace</td>\n",
       "    </tr>\n",
       "    <tr>\n",
       "      <th>1</th>\n",
       "      <td>11</td>\n",
       "      <td>94</td>\n",
       "      <td>5</td>\n",
       "      <td>One Hundred Years of Solitude</td>\n",
       "    </tr>\n",
       "    <tr>\n",
       "      <th>19</th>\n",
       "      <td>11</td>\n",
       "      <td>236</td>\n",
       "      <td>5</td>\n",
       "      <td>Into Thin Air: A Personal Account of the Mount...</td>\n",
       "    </tr>\n",
       "    <tr>\n",
       "      <th>18</th>\n",
       "      <td>11</td>\n",
       "      <td>4096</td>\n",
       "      <td>5</td>\n",
       "      <td>Bringing Down the House: The Inside Story of S...</td>\n",
       "    </tr>\n",
       "    <tr>\n",
       "      <th>29</th>\n",
       "      <td>11</td>\n",
       "      <td>4994</td>\n",
       "      <td>5</td>\n",
       "      <td>This Boy's Life</td>\n",
       "    </tr>\n",
       "    <tr>\n",
       "      <th>30</th>\n",
       "      <td>11</td>\n",
       "      <td>410</td>\n",
       "      <td>5</td>\n",
       "      <td>Things Fall Apart (The African Trilogy, #1)</td>\n",
       "    </tr>\n",
       "    <tr>\n",
       "      <th>14</th>\n",
       "      <td>11</td>\n",
       "      <td>1315</td>\n",
       "      <td>5</td>\n",
       "      <td>Blankets</td>\n",
       "    </tr>\n",
       "  </tbody>\n",
       "</table>\n",
       "</div>"
      ],
      "text/plain": [
       "    user_id  book_id  rating  \\\n",
       "39       11     1256       5   \n",
       "25       11      662       5   \n",
       "26       11      354       5   \n",
       "27       11      595       5   \n",
       "1        11       94       5   \n",
       "19       11      236       5   \n",
       "18       11     4096       5   \n",
       "29       11     4994       5   \n",
       "30       11      410       5   \n",
       "14       11     1315       5   \n",
       "\n",
       "                                                title  \n",
       "39                                    City of Thieves  \n",
       "25                            Interpreter of Maladies  \n",
       "26                                            Beloved  \n",
       "27                                   A Separate Peace  \n",
       "1                       One Hundred Years of Solitude  \n",
       "19  Into Thin Air: A Personal Account of the Mount...  \n",
       "18  Bringing Down the House: The Inside Story of S...  \n",
       "29                                    This Boy's Life  \n",
       "30        Things Fall Apart (The African Trilogy, #1)  \n",
       "14                                           Blankets  "
      ]
     },
     "execution_count": 44,
     "metadata": {},
     "output_type": "execute_result"
    }
   ],
   "source": [
    "userId = 11\n",
    "user_preferences = ratings[(ratings['user_id']==userId)&(ratings['rating']>=4)]\n",
    "user_preferences = user_preferences.merge(books[['book_id', 'title']])\n",
    "user_preferences.sort_values('rating', ascending=False).head(10)"
   ]
  },
  {
   "cell_type": "markdown",
   "metadata": {},
   "source": [
    "let’s take a look at which books we predict `userId=11` will like based on their previous ratings. We will need get the row which represents `userId=11` and sort their predicted ratings in descending order. `np.argsort()` is a used for getting the top N indices (i.e., books with highest rating predictions) for `userId=11`."
   ]
  },
  {
   "cell_type": "code",
   "execution_count": 45,
   "metadata": {},
   "outputs": [
    {
     "name": "stdout",
     "output_type": "stream",
     "text": [
      "Top 10 Recommendations for UserId 11:\n",
      "The Kite Runner\n",
      "Middlesex\n",
      "Life of Pi\n",
      "Me Talk Pretty One Day\n",
      "The Curious Incident of the Dog in the Night-Time\n",
      "A Thousand Splendid Suns\n",
      "The Time Traveler's Wife\n",
      "Water for Elephants\n",
      "Memoirs of a Geisha\n",
      "The Poisonwood Bible\n"
     ]
    }
   ],
   "source": [
    "top_N = 10\n",
    "\n",
    "book_titles = dict(zip(books['book_id'], books['title']))\n",
    "\n",
    "top_N_indices = new_X[user_mapper[userId]].argsort()[-top_N:][::-1]\n",
    "\n",
    "print(f\"Top {top_N} Recommendations for UserId {userId}:\")\n",
    "for i in top_N_indices:\n",
    "    book_id = book_inv_mapper[i]\n",
    "    print(book_titles[book_id])"
   ]
  },
  {
   "cell_type": "markdown",
   "metadata": {},
   "source": [
    "# SVD and NMF models comparison\n",
    "Singular Value Decomposition (SVD) and Non-negative Matrix Factorization (NMF) are matrix factorization techniques used for dimensionality reduction."
   ]
  },
  {
   "cell_type": "code",
   "execution_count": 46,
   "metadata": {},
   "outputs": [
    {
     "ename": "ModuleNotFoundError",
     "evalue": "No module named 'surprise'",
     "output_type": "error",
     "traceback": [
      "\u001b[1;31m---------------------------------------------------------------------------\u001b[0m",
      "\u001b[1;31mModuleNotFoundError\u001b[0m                       Traceback (most recent call last)",
      "\u001b[1;32m~\\AppData\\Local\\Temp\\ipykernel_130188\\3407744133.py\u001b[0m in \u001b[0;36m<module>\u001b[1;34m\u001b[0m\n\u001b[0;32m      1\u001b[0m \u001b[1;32mimport\u001b[0m \u001b[0mpandas\u001b[0m \u001b[1;32mas\u001b[0m \u001b[0mpd\u001b[0m\u001b[1;33m\u001b[0m\u001b[1;33m\u001b[0m\u001b[0m\n\u001b[0;32m      2\u001b[0m \u001b[1;32mimport\u001b[0m \u001b[0mseaborn\u001b[0m \u001b[1;32mas\u001b[0m \u001b[0msns\u001b[0m\u001b[1;33m\u001b[0m\u001b[1;33m\u001b[0m\u001b[0m\n\u001b[1;32m----> 3\u001b[1;33m \u001b[1;32mfrom\u001b[0m \u001b[0msurprise\u001b[0m \u001b[1;32mimport\u001b[0m \u001b[0mDataset\u001b[0m\u001b[1;33m,\u001b[0m \u001b[0mReader\u001b[0m\u001b[1;33m\u001b[0m\u001b[1;33m\u001b[0m\u001b[0m\n\u001b[0m\u001b[0;32m      4\u001b[0m \u001b[1;32mfrom\u001b[0m \u001b[0msurprise\u001b[0m \u001b[1;32mimport\u001b[0m \u001b[0mSVD\u001b[0m\u001b[1;33m,\u001b[0m \u001b[0mNMF\u001b[0m\u001b[1;33m\u001b[0m\u001b[1;33m\u001b[0m\u001b[0m\n\u001b[0;32m      5\u001b[0m \u001b[1;32mimport\u001b[0m \u001b[0mmatplotlib\u001b[0m\u001b[1;33m.\u001b[0m\u001b[0mpyplot\u001b[0m \u001b[1;32mas\u001b[0m \u001b[0mplt\u001b[0m\u001b[1;33m\u001b[0m\u001b[1;33m\u001b[0m\u001b[0m\n",
      "\u001b[1;31mModuleNotFoundError\u001b[0m: No module named 'surprise'"
     ]
    }
   ],
   "source": [
    "import pandas as pd\n",
    "import seaborn as sns\n",
    "from surprise import Dataset, Reader\n",
    "from surprise import SVD, NMF\n",
    "import matplotlib.pyplot as plt\n",
    "from collections import defaultdict\n",
    "from surprise.model_selection import KFold\n",
    "from surprise.model_selection import cross_validate, train_test_split, GridSearchCV\n",
    "\n",
    "LIMIT = 100000\n",
    "df = pd.read_csv('data/ratings.csv')\n",
    "df = df.iloc[:LIMIT]\n",
    "reader = Reader(rating_scale=(1, 5))\n",
    "data = Dataset.load_from_df(df[['user_id', 'book_id', 'rating']], reader)"
   ]
  },
  {
   "cell_type": "code",
   "execution_count": null,
   "metadata": {},
   "outputs": [],
   "source": [
    "model_svd = SVD()\n",
    "cv_results_svd = cross_validate(model_svd, data, cv=3)\n",
    "pd.DataFrame(cv_results_svd).mean()"
   ]
  },
  {
   "cell_type": "code",
   "execution_count": null,
   "metadata": {},
   "outputs": [],
   "source": [
    "model_nmf = NMF()\n",
    "cv_results_nmf = cross_validate(model_nmf, data, cv=3)\n",
    "pd.DataFrame(cv_results_nmf).mean()\n"
   ]
  },
  {
   "cell_type": "markdown",
   "metadata": {},
   "source": [
    "# Optimisation of SVD algorithm\n",
    "Grid Search Cross Validation computes accuracy metrics for an algorithm on various combinations of parameters\n",
    "\n",
    "- n_factors - the number of factors\n",
    "- n_epochs - the number of iteration of the SGD procedure\n",
    "- lr_all - the learning rate for all parameters\n",
    "- reg_all - the regularization term for all parameters"
   ]
  },
  {
   "cell_type": "code",
   "execution_count": null,
   "metadata": {},
   "outputs": [],
   "source": [
    "param_grid = {'n_factors': [80,100],\n",
    "              'n_epochs': [5, 20],\n",
    "              'lr_all': [0.002, 0.005],\n",
    "              'reg_all': [0.2, 0.4]}\n",
    "\n",
    "gs = GridSearchCV(SVD, param_grid, measures=['rmse', 'mae'], cv=3)\n",
    "gs.fit(data)\n",
    "\n",
    "gs.best_score['rmse']\n",
    "gs.best_params['rmse']\n"
   ]
  },
  {
   "cell_type": "code",
   "execution_count": null,
   "metadata": {},
   "outputs": [],
   "source": [
    "trainset, testset = train_test_split(data, test_size=0.2)\n",
    "\n",
    "model = SVD(n_factors=80, n_epochs=20, lr_all=0.005, reg_all=0.2)\n",
    "model.fit(trainset)\n",
    "predictions = model.test(testset)\n",
    "\n"
   ]
  },
  {
   "cell_type": "code",
   "execution_count": null,
   "metadata": {},
   "outputs": [],
   "source": [
    "df_pred = pd.DataFrame(predictions, columns=['user_id', 'book_id', 'actual_rating', 'pred_rating', 'details'])\n",
    "df_pred['impossible'] = df_pred['details'].apply(lambda x: x['was_impossible'])\n",
    "df_pred['pred_rating_round'] = df_pred['pred_rating'].round()\n",
    "df_pred['abs_err'] = abs(df_pred['pred_rating'] - df_pred['actual_rating'])\n",
    "df_pred.drop(['details'], axis=1, inplace=True)\n",
    "df_pred.sample(5)"
   ]
  },
  {
   "cell_type": "code",
   "execution_count": null,
   "metadata": {},
   "outputs": [],
   "source": [
    "palette = sns.color_palette(\"RdBu\", 10)\n",
    "fig, (ax1, ax2) = plt.subplots(nrows=1, ncols=2, figsize=(14, 4))\n",
    "\n",
    "sns.countplot(x='actual_rating', data=df_pred, palette=palette, ax=ax1)\n",
    "ax1.set_title('Distribution of actual ratings of books in the test set')\n",
    "\n",
    "sns.countplot(x='pred_rating_round', data=df_pred, palette=palette, ax=ax2)\n",
    "ax2.set_title('Distribution of predicted ratings of books in the test set')\n",
    "\n",
    "plt.show()"
   ]
  },
  {
   "cell_type": "code",
   "execution_count": null,
   "metadata": {},
   "outputs": [],
   "source": [
    "\n",
    "def precision_recall_at_k(predictions, k=10, threshold=2.9):\n",
    "    \"\"\"Return precision and recall at k metrics for each user\"\"\"\n",
    "\n",
    "    # map the predictions to each user.\n",
    "    user_est_true = defaultdict(list)\n",
    "    for uid, _, true_r, est, _ in predictions:\n",
    "        user_est_true[uid].append((est, true_r))\n",
    "\n",
    "    precisions = dict()\n",
    "    recalls = dict()\n",
    "    for uid, user_ratings in user_est_true.items():\n",
    "\n",
    "        # Sort user ratings by estimated value\n",
    "        user_ratings.sort(key=lambda x: x[0], reverse=True)\n",
    "\n",
    "        # Number of relevant items\n",
    "        n_rel = sum((true_r >= threshold) for (_, true_r) in user_ratings)\n",
    "\n",
    "        # Number of recommended items in top k\n",
    "        n_rec_k = sum((est >= threshold) for (est, _) in user_ratings[:k])\n",
    "\n",
    "        # Number of relevant and recommended items in top k\n",
    "        n_rel_and_rec_k = sum(\n",
    "            ((true_r >= threshold) and (est >= threshold))\n",
    "            for (est, true_r) in user_ratings[:k]\n",
    "        )\n",
    "\n",
    "        # Precision@K: Proportion of recommended items that are relevant.\n",
    "\n",
    "        precisions[uid] = n_rel_and_rec_k / n_rec_k if n_rec_k != 0 else 0\n",
    "\n",
    "        # Recall@K: Proportion of relevant items that are recommended\n",
    "\n",
    "        recalls[uid] = n_rel_and_rec_k / n_rel if n_rel != 0 else 0\n",
    "\n",
    "    return precisions, recalls\n",
    "\n",
    "\n",
    "\n",
    "kf = KFold(n_splits=5)\n",
    "algo = SVD()\n",
    "\n",
    "for trainset, testset in kf.split(data):\n",
    "    algo.fit(trainset)\n",
    "    predictions = algo.test(testset)\n",
    "    precisions, recalls = precision_recall_at_k(predictions, k=5, threshold=4)\n",
    "\n",
    "    # Precision and recall can then be averaged over all users\n",
    "    print(\"Precision@K \",sum(prec for prec in precisions.values()) / len(precisions))\n",
    "    print(\"Recall@K \",sum(rec for rec in recalls.values()) / len(recalls))\n",
    "    print()"
   ]
  },
  {
   "cell_type": "markdown",
   "metadata": {},
   "source": [
    "# Evaluating Collaborative Filtering (user-user) and (book-book)"
   ]
  },
  {
   "cell_type": "code",
   "execution_count": null,
   "metadata": {},
   "outputs": [],
   "source": [
    "import pandas as pd\n",
    "from surprise import Dataset, Reader\n",
    "from surprise.model_selection import cross_validate, train_test_split\n",
    "from surprise import KNNBasic, KNNWithMeans, KNNBaseline, KNNWithZScore\n",
    "LIMIT = 100000\n",
    "df = pd.read_csv('data/ratings.csv')\n",
    "df = df.iloc[:LIMIT]\n",
    "reader = Reader(rating_scale=(1, 5))\n",
    "data = Dataset.load_from_df(df[['user_id', 'book_id', 'rating']], reader)"
   ]
  },
  {
   "cell_type": "code",
   "execution_count": null,
   "metadata": {},
   "outputs": [],
   "source": [
    "train, test = train_test_split(data, test_size=.2)\n",
    "sim_options = {'name': 'cosine', \n",
    "               'min_support': 5,\n",
    "               'user_based': False}\n",
    "algo = KNNBaseline(k=30,sim_options=sim_options)\n",
    "results = cross_validate(\n",
    "    algo = algo, data = data, measures=['RMSE'], \n",
    "    cv=2)"
   ]
  },
  {
   "cell_type": "code",
   "execution_count": null,
   "metadata": {},
   "outputs": [],
   "source": [
    "results"
   ]
  },
  {
   "cell_type": "code",
   "execution_count": null,
   "metadata": {},
   "outputs": [],
   "source": [
    "sim_options['user_based'] = True\n",
    "results1 = cross_validate(\n",
    "    algo = algo, data = data, measures=['RMSE'], \n",
    "    cv=2)\n",
    "results1"
   ]
  },
  {
   "cell_type": "code",
   "execution_count": null,
   "metadata": {},
   "outputs": [],
   "source": []
  }
 ],
 "metadata": {
  "kernelspec": {
   "display_name": "Python 3 (ipykernel)",
   "language": "python",
   "name": "python3"
  },
  "language_info": {
   "codemirror_mode": {
    "name": "ipython",
    "version": 3
   },
   "file_extension": ".py",
   "mimetype": "text/x-python",
   "name": "python",
   "nbconvert_exporter": "python",
   "pygments_lexer": "ipython3",
   "version": "3.9.13"
  }
 },
 "nbformat": 4,
 "nbformat_minor": 2
}
